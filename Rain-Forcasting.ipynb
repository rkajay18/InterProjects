{
 "cells": [
  {
   "cell_type": "code",
   "execution_count": 1,
   "id": "b8fd1d12",
   "metadata": {},
   "outputs": [],
   "source": [
    "import pandas as pd\n",
    "import numpy as np\n",
    "\n",
    "import seaborn as sns\n",
    "\n",
    "import warnings\n",
    "warnings.filterwarnings('ignore')\n",
    "\n",
    "import matplotlib.pyplot as plt\n",
    "%matplotlib inline"
   ]
  },
  {
   "cell_type": "code",
   "execution_count": 2,
   "id": "77c588f5",
   "metadata": {},
   "outputs": [],
   "source": [
    "df=pd.read_csv(\"https://raw.githubusercontent.com/dsrscientist/dataset3/main/weatherAUS.csv\")"
   ]
  },
  {
   "cell_type": "code",
   "execution_count": 4,
   "id": "bc4d1815",
   "metadata": {},
   "outputs": [
    {
     "data": {
      "text/html": [
       "<div>\n",
       "<style scoped>\n",
       "    .dataframe tbody tr th:only-of-type {\n",
       "        vertical-align: middle;\n",
       "    }\n",
       "\n",
       "    .dataframe tbody tr th {\n",
       "        vertical-align: top;\n",
       "    }\n",
       "\n",
       "    .dataframe thead th {\n",
       "        text-align: right;\n",
       "    }\n",
       "</style>\n",
       "<table border=\"1\" class=\"dataframe\">\n",
       "  <thead>\n",
       "    <tr style=\"text-align: right;\">\n",
       "      <th></th>\n",
       "      <th>Date</th>\n",
       "      <th>Location</th>\n",
       "      <th>MinTemp</th>\n",
       "      <th>MaxTemp</th>\n",
       "      <th>Rainfall</th>\n",
       "      <th>Evaporation</th>\n",
       "      <th>Sunshine</th>\n",
       "      <th>WindGustDir</th>\n",
       "      <th>WindGustSpeed</th>\n",
       "      <th>WindDir9am</th>\n",
       "      <th>...</th>\n",
       "      <th>Humidity9am</th>\n",
       "      <th>Humidity3pm</th>\n",
       "      <th>Pressure9am</th>\n",
       "      <th>Pressure3pm</th>\n",
       "      <th>Cloud9am</th>\n",
       "      <th>Cloud3pm</th>\n",
       "      <th>Temp9am</th>\n",
       "      <th>Temp3pm</th>\n",
       "      <th>RainToday</th>\n",
       "      <th>RainTomorrow</th>\n",
       "    </tr>\n",
       "  </thead>\n",
       "  <tbody>\n",
       "    <tr>\n",
       "      <th>0</th>\n",
       "      <td>2008-12-01</td>\n",
       "      <td>Albury</td>\n",
       "      <td>13.4</td>\n",
       "      <td>22.9</td>\n",
       "      <td>0.6</td>\n",
       "      <td>NaN</td>\n",
       "      <td>NaN</td>\n",
       "      <td>W</td>\n",
       "      <td>44.0</td>\n",
       "      <td>W</td>\n",
       "      <td>...</td>\n",
       "      <td>71.0</td>\n",
       "      <td>22.0</td>\n",
       "      <td>1007.7</td>\n",
       "      <td>1007.1</td>\n",
       "      <td>8.0</td>\n",
       "      <td>NaN</td>\n",
       "      <td>16.9</td>\n",
       "      <td>21.8</td>\n",
       "      <td>No</td>\n",
       "      <td>No</td>\n",
       "    </tr>\n",
       "    <tr>\n",
       "      <th>1</th>\n",
       "      <td>2008-12-02</td>\n",
       "      <td>Albury</td>\n",
       "      <td>7.4</td>\n",
       "      <td>25.1</td>\n",
       "      <td>0.0</td>\n",
       "      <td>NaN</td>\n",
       "      <td>NaN</td>\n",
       "      <td>WNW</td>\n",
       "      <td>44.0</td>\n",
       "      <td>NNW</td>\n",
       "      <td>...</td>\n",
       "      <td>44.0</td>\n",
       "      <td>25.0</td>\n",
       "      <td>1010.6</td>\n",
       "      <td>1007.8</td>\n",
       "      <td>NaN</td>\n",
       "      <td>NaN</td>\n",
       "      <td>17.2</td>\n",
       "      <td>24.3</td>\n",
       "      <td>No</td>\n",
       "      <td>No</td>\n",
       "    </tr>\n",
       "    <tr>\n",
       "      <th>2</th>\n",
       "      <td>2008-12-03</td>\n",
       "      <td>Albury</td>\n",
       "      <td>12.9</td>\n",
       "      <td>25.7</td>\n",
       "      <td>0.0</td>\n",
       "      <td>NaN</td>\n",
       "      <td>NaN</td>\n",
       "      <td>WSW</td>\n",
       "      <td>46.0</td>\n",
       "      <td>W</td>\n",
       "      <td>...</td>\n",
       "      <td>38.0</td>\n",
       "      <td>30.0</td>\n",
       "      <td>1007.6</td>\n",
       "      <td>1008.7</td>\n",
       "      <td>NaN</td>\n",
       "      <td>2.0</td>\n",
       "      <td>21.0</td>\n",
       "      <td>23.2</td>\n",
       "      <td>No</td>\n",
       "      <td>No</td>\n",
       "    </tr>\n",
       "    <tr>\n",
       "      <th>3</th>\n",
       "      <td>2008-12-04</td>\n",
       "      <td>Albury</td>\n",
       "      <td>9.2</td>\n",
       "      <td>28.0</td>\n",
       "      <td>0.0</td>\n",
       "      <td>NaN</td>\n",
       "      <td>NaN</td>\n",
       "      <td>NE</td>\n",
       "      <td>24.0</td>\n",
       "      <td>SE</td>\n",
       "      <td>...</td>\n",
       "      <td>45.0</td>\n",
       "      <td>16.0</td>\n",
       "      <td>1017.6</td>\n",
       "      <td>1012.8</td>\n",
       "      <td>NaN</td>\n",
       "      <td>NaN</td>\n",
       "      <td>18.1</td>\n",
       "      <td>26.5</td>\n",
       "      <td>No</td>\n",
       "      <td>No</td>\n",
       "    </tr>\n",
       "    <tr>\n",
       "      <th>4</th>\n",
       "      <td>2008-12-05</td>\n",
       "      <td>Albury</td>\n",
       "      <td>17.5</td>\n",
       "      <td>32.3</td>\n",
       "      <td>1.0</td>\n",
       "      <td>NaN</td>\n",
       "      <td>NaN</td>\n",
       "      <td>W</td>\n",
       "      <td>41.0</td>\n",
       "      <td>ENE</td>\n",
       "      <td>...</td>\n",
       "      <td>82.0</td>\n",
       "      <td>33.0</td>\n",
       "      <td>1010.8</td>\n",
       "      <td>1006.0</td>\n",
       "      <td>7.0</td>\n",
       "      <td>8.0</td>\n",
       "      <td>17.8</td>\n",
       "      <td>29.7</td>\n",
       "      <td>No</td>\n",
       "      <td>No</td>\n",
       "    </tr>\n",
       "  </tbody>\n",
       "</table>\n",
       "<p>5 rows × 23 columns</p>\n",
       "</div>"
      ],
      "text/plain": [
       "         Date Location  MinTemp  MaxTemp  Rainfall  Evaporation  Sunshine  \\\n",
       "0  2008-12-01   Albury     13.4     22.9       0.6          NaN       NaN   \n",
       "1  2008-12-02   Albury      7.4     25.1       0.0          NaN       NaN   \n",
       "2  2008-12-03   Albury     12.9     25.7       0.0          NaN       NaN   \n",
       "3  2008-12-04   Albury      9.2     28.0       0.0          NaN       NaN   \n",
       "4  2008-12-05   Albury     17.5     32.3       1.0          NaN       NaN   \n",
       "\n",
       "  WindGustDir  WindGustSpeed WindDir9am  ... Humidity9am  Humidity3pm  \\\n",
       "0           W           44.0          W  ...        71.0         22.0   \n",
       "1         WNW           44.0        NNW  ...        44.0         25.0   \n",
       "2         WSW           46.0          W  ...        38.0         30.0   \n",
       "3          NE           24.0         SE  ...        45.0         16.0   \n",
       "4           W           41.0        ENE  ...        82.0         33.0   \n",
       "\n",
       "   Pressure9am  Pressure3pm  Cloud9am  Cloud3pm  Temp9am  Temp3pm  RainToday  \\\n",
       "0       1007.7       1007.1       8.0       NaN     16.9     21.8         No   \n",
       "1       1010.6       1007.8       NaN       NaN     17.2     24.3         No   \n",
       "2       1007.6       1008.7       NaN       2.0     21.0     23.2         No   \n",
       "3       1017.6       1012.8       NaN       NaN     18.1     26.5         No   \n",
       "4       1010.8       1006.0       7.0       8.0     17.8     29.7         No   \n",
       "\n",
       "   RainTomorrow  \n",
       "0            No  \n",
       "1            No  \n",
       "2            No  \n",
       "3            No  \n",
       "4            No  \n",
       "\n",
       "[5 rows x 23 columns]"
      ]
     },
     "execution_count": 4,
     "metadata": {},
     "output_type": "execute_result"
    }
   ],
   "source": [
    "df.head()"
   ]
  },
  {
   "cell_type": "code",
   "execution_count": 5,
   "id": "07e6c5da",
   "metadata": {},
   "outputs": [
    {
     "name": "stdout",
     "output_type": "stream",
     "text": [
      "<class 'pandas.core.frame.DataFrame'>\n",
      "RangeIndex: 8425 entries, 0 to 8424\n",
      "Data columns (total 23 columns):\n",
      " #   Column         Non-Null Count  Dtype  \n",
      "---  ------         --------------  -----  \n",
      " 0   Date           8425 non-null   object \n",
      " 1   Location       8425 non-null   object \n",
      " 2   MinTemp        8350 non-null   float64\n",
      " 3   MaxTemp        8365 non-null   float64\n",
      " 4   Rainfall       8185 non-null   float64\n",
      " 5   Evaporation    4913 non-null   float64\n",
      " 6   Sunshine       4431 non-null   float64\n",
      " 7   WindGustDir    7434 non-null   object \n",
      " 8   WindGustSpeed  7434 non-null   float64\n",
      " 9   WindDir9am     7596 non-null   object \n",
      " 10  WindDir3pm     8117 non-null   object \n",
      " 11  WindSpeed9am   8349 non-null   float64\n",
      " 12  WindSpeed3pm   8318 non-null   float64\n",
      " 13  Humidity9am    8366 non-null   float64\n",
      " 14  Humidity3pm    8323 non-null   float64\n",
      " 15  Pressure9am    7116 non-null   float64\n",
      " 16  Pressure3pm    7113 non-null   float64\n",
      " 17  Cloud9am       6004 non-null   float64\n",
      " 18  Cloud3pm       5970 non-null   float64\n",
      " 19  Temp9am        8369 non-null   float64\n",
      " 20  Temp3pm        8329 non-null   float64\n",
      " 21  RainToday      8185 non-null   object \n",
      " 22  RainTomorrow   8186 non-null   object \n",
      "dtypes: float64(16), object(7)\n",
      "memory usage: 1.5+ MB\n"
     ]
    }
   ],
   "source": [
    "df.info()"
   ]
  },
  {
   "cell_type": "code",
   "execution_count": 6,
   "id": "5dba9154",
   "metadata": {},
   "outputs": [
    {
     "data": {
      "text/plain": [
       "(8425, 23)"
      ]
     },
     "execution_count": 6,
     "metadata": {},
     "output_type": "execute_result"
    }
   ],
   "source": [
    "df.shape"
   ]
  },
  {
   "cell_type": "code",
   "execution_count": 7,
   "id": "ebd1b14c",
   "metadata": {},
   "outputs": [
    {
     "data": {
      "text/plain": [
       "Date                0\n",
       "Location            0\n",
       "MinTemp            75\n",
       "MaxTemp            60\n",
       "Rainfall          240\n",
       "Evaporation      3512\n",
       "Sunshine         3994\n",
       "WindGustDir       991\n",
       "WindGustSpeed     991\n",
       "WindDir9am        829\n",
       "WindDir3pm        308\n",
       "WindSpeed9am       76\n",
       "WindSpeed3pm      107\n",
       "Humidity9am        59\n",
       "Humidity3pm       102\n",
       "Pressure9am      1309\n",
       "Pressure3pm      1312\n",
       "Cloud9am         2421\n",
       "Cloud3pm         2455\n",
       "Temp9am            56\n",
       "Temp3pm            96\n",
       "RainToday         240\n",
       "RainTomorrow      239\n",
       "dtype: int64"
      ]
     },
     "execution_count": 7,
     "metadata": {},
     "output_type": "execute_result"
    }
   ],
   "source": [
    "df.isnull().sum()"
   ]
  },
  {
   "cell_type": "code",
   "execution_count": 9,
   "id": "74bc7650",
   "metadata": {},
   "outputs": [
    {
     "data": {
      "text/plain": [
       "Date             3004\n",
       "Location           12\n",
       "MinTemp           285\n",
       "MaxTemp           331\n",
       "Rainfall          250\n",
       "Evaporation       116\n",
       "Sunshine          140\n",
       "WindGustDir        16\n",
       "WindGustSpeed      52\n",
       "WindDir9am         16\n",
       "WindDir3pm         16\n",
       "WindSpeed9am       34\n",
       "WindSpeed3pm       35\n",
       "Humidity9am        90\n",
       "Humidity3pm        94\n",
       "Pressure9am       384\n",
       "Pressure3pm       374\n",
       "Cloud9am            9\n",
       "Cloud3pm            9\n",
       "Temp9am           304\n",
       "Temp3pm           328\n",
       "RainToday           2\n",
       "RainTomorrow        2\n",
       "dtype: int64"
      ]
     },
     "execution_count": 9,
     "metadata": {},
     "output_type": "execute_result"
    }
   ],
   "source": [
    "# Checking number of unique values in each column\n",
    "df.nunique()"
   ]
  },
  {
   "cell_type": "code",
   "execution_count": 10,
   "id": "512115b0",
   "metadata": {},
   "outputs": [],
   "source": [
    "# Droping null values\n",
    "df=df.dropna()"
   ]
  },
  {
   "cell_type": "code",
   "execution_count": 11,
   "id": "eb45dd98",
   "metadata": {},
   "outputs": [
    {
     "data": {
      "text/plain": [
       "Date             0\n",
       "Location         0\n",
       "MinTemp          0\n",
       "MaxTemp          0\n",
       "Rainfall         0\n",
       "Evaporation      0\n",
       "Sunshine         0\n",
       "WindGustDir      0\n",
       "WindGustSpeed    0\n",
       "WindDir9am       0\n",
       "WindDir3pm       0\n",
       "WindSpeed9am     0\n",
       "WindSpeed3pm     0\n",
       "Humidity9am      0\n",
       "Humidity3pm      0\n",
       "Pressure9am      0\n",
       "Pressure3pm      0\n",
       "Cloud9am         0\n",
       "Cloud3pm         0\n",
       "Temp9am          0\n",
       "Temp3pm          0\n",
       "RainToday        0\n",
       "RainTomorrow     0\n",
       "dtype: int64"
      ]
     },
     "execution_count": 11,
     "metadata": {},
     "output_type": "execute_result"
    }
   ],
   "source": [
    "df.isnull().sum()"
   ]
  },
  {
   "cell_type": "code",
   "execution_count": 12,
   "id": "4a732023",
   "metadata": {},
   "outputs": [
    {
     "data": {
      "text/html": [
       "<div>\n",
       "<style scoped>\n",
       "    .dataframe tbody tr th:only-of-type {\n",
       "        vertical-align: middle;\n",
       "    }\n",
       "\n",
       "    .dataframe tbody tr th {\n",
       "        vertical-align: top;\n",
       "    }\n",
       "\n",
       "    .dataframe thead th {\n",
       "        text-align: right;\n",
       "    }\n",
       "</style>\n",
       "<table border=\"1\" class=\"dataframe\">\n",
       "  <thead>\n",
       "    <tr style=\"text-align: right;\">\n",
       "      <th></th>\n",
       "      <th>MinTemp</th>\n",
       "      <th>MaxTemp</th>\n",
       "      <th>Rainfall</th>\n",
       "      <th>Evaporation</th>\n",
       "      <th>Sunshine</th>\n",
       "      <th>WindGustSpeed</th>\n",
       "      <th>WindSpeed9am</th>\n",
       "      <th>WindSpeed3pm</th>\n",
       "      <th>Humidity9am</th>\n",
       "      <th>Humidity3pm</th>\n",
       "      <th>Pressure9am</th>\n",
       "      <th>Pressure3pm</th>\n",
       "      <th>Cloud9am</th>\n",
       "      <th>Cloud3pm</th>\n",
       "      <th>Temp9am</th>\n",
       "      <th>Temp3pm</th>\n",
       "    </tr>\n",
       "  </thead>\n",
       "  <tbody>\n",
       "    <tr>\n",
       "      <th>count</th>\n",
       "      <td>3790.000000</td>\n",
       "      <td>3790.000000</td>\n",
       "      <td>3790.000000</td>\n",
       "      <td>3790.000000</td>\n",
       "      <td>3790.000000</td>\n",
       "      <td>3790.000000</td>\n",
       "      <td>3790.000000</td>\n",
       "      <td>3790.000000</td>\n",
       "      <td>3790.000000</td>\n",
       "      <td>3790.000000</td>\n",
       "      <td>3790.000000</td>\n",
       "      <td>3790.000000</td>\n",
       "      <td>3790.000000</td>\n",
       "      <td>3790.000000</td>\n",
       "      <td>3790.000000</td>\n",
       "      <td>3790.000000</td>\n",
       "    </tr>\n",
       "    <tr>\n",
       "      <th>mean</th>\n",
       "      <td>14.071029</td>\n",
       "      <td>24.733483</td>\n",
       "      <td>2.451768</td>\n",
       "      <td>5.292533</td>\n",
       "      <td>7.852744</td>\n",
       "      <td>41.203958</td>\n",
       "      <td>16.377836</td>\n",
       "      <td>20.099208</td>\n",
       "      <td>63.683641</td>\n",
       "      <td>49.435620</td>\n",
       "      <td>1017.488047</td>\n",
       "      <td>1015.037836</td>\n",
       "      <td>4.116623</td>\n",
       "      <td>4.214776</td>\n",
       "      <td>18.963536</td>\n",
       "      <td>23.226201</td>\n",
       "    </tr>\n",
       "    <tr>\n",
       "      <th>std</th>\n",
       "      <td>5.161176</td>\n",
       "      <td>6.068364</td>\n",
       "      <td>7.772025</td>\n",
       "      <td>3.642341</td>\n",
       "      <td>3.816696</td>\n",
       "      <td>13.857829</td>\n",
       "      <td>9.516511</td>\n",
       "      <td>8.719867</td>\n",
       "      <td>16.273443</td>\n",
       "      <td>17.673797</td>\n",
       "      <td>6.560724</td>\n",
       "      <td>6.485755</td>\n",
       "      <td>2.773039</td>\n",
       "      <td>2.647355</td>\n",
       "      <td>5.528374</td>\n",
       "      <td>5.929694</td>\n",
       "    </tr>\n",
       "    <tr>\n",
       "      <th>min</th>\n",
       "      <td>-0.700000</td>\n",
       "      <td>10.800000</td>\n",
       "      <td>0.000000</td>\n",
       "      <td>0.000000</td>\n",
       "      <td>0.000000</td>\n",
       "      <td>13.000000</td>\n",
       "      <td>2.000000</td>\n",
       "      <td>2.000000</td>\n",
       "      <td>11.000000</td>\n",
       "      <td>6.000000</td>\n",
       "      <td>992.900000</td>\n",
       "      <td>990.800000</td>\n",
       "      <td>0.000000</td>\n",
       "      <td>0.000000</td>\n",
       "      <td>4.500000</td>\n",
       "      <td>9.400000</td>\n",
       "    </tr>\n",
       "    <tr>\n",
       "      <th>25%</th>\n",
       "      <td>10.200000</td>\n",
       "      <td>20.300000</td>\n",
       "      <td>0.000000</td>\n",
       "      <td>2.800000</td>\n",
       "      <td>5.200000</td>\n",
       "      <td>31.000000</td>\n",
       "      <td>9.000000</td>\n",
       "      <td>13.000000</td>\n",
       "      <td>53.000000</td>\n",
       "      <td>38.000000</td>\n",
       "      <td>1013.100000</td>\n",
       "      <td>1010.400000</td>\n",
       "      <td>1.000000</td>\n",
       "      <td>1.000000</td>\n",
       "      <td>14.900000</td>\n",
       "      <td>19.100000</td>\n",
       "    </tr>\n",
       "    <tr>\n",
       "      <th>50%</th>\n",
       "      <td>14.000000</td>\n",
       "      <td>24.100000</td>\n",
       "      <td>0.000000</td>\n",
       "      <td>4.600000</td>\n",
       "      <td>8.900000</td>\n",
       "      <td>39.000000</td>\n",
       "      <td>15.000000</td>\n",
       "      <td>20.000000</td>\n",
       "      <td>64.000000</td>\n",
       "      <td>49.000000</td>\n",
       "      <td>1017.400000</td>\n",
       "      <td>1015.050000</td>\n",
       "      <td>5.000000</td>\n",
       "      <td>5.000000</td>\n",
       "      <td>18.700000</td>\n",
       "      <td>22.700000</td>\n",
       "    </tr>\n",
       "    <tr>\n",
       "      <th>75%</th>\n",
       "      <td>17.900000</td>\n",
       "      <td>29.200000</td>\n",
       "      <td>0.800000</td>\n",
       "      <td>7.000000</td>\n",
       "      <td>10.800000</td>\n",
       "      <td>50.000000</td>\n",
       "      <td>22.000000</td>\n",
       "      <td>26.000000</td>\n",
       "      <td>75.000000</td>\n",
       "      <td>61.000000</td>\n",
       "      <td>1021.700000</td>\n",
       "      <td>1019.300000</td>\n",
       "      <td>7.000000</td>\n",
       "      <td>7.000000</td>\n",
       "      <td>23.200000</td>\n",
       "      <td>27.300000</td>\n",
       "    </tr>\n",
       "    <tr>\n",
       "      <th>max</th>\n",
       "      <td>28.500000</td>\n",
       "      <td>43.600000</td>\n",
       "      <td>168.400000</td>\n",
       "      <td>37.000000</td>\n",
       "      <td>13.900000</td>\n",
       "      <td>102.000000</td>\n",
       "      <td>61.000000</td>\n",
       "      <td>52.000000</td>\n",
       "      <td>99.000000</td>\n",
       "      <td>98.000000</td>\n",
       "      <td>1039.000000</td>\n",
       "      <td>1035.600000</td>\n",
       "      <td>8.000000</td>\n",
       "      <td>8.000000</td>\n",
       "      <td>39.400000</td>\n",
       "      <td>42.400000</td>\n",
       "    </tr>\n",
       "  </tbody>\n",
       "</table>\n",
       "</div>"
      ],
      "text/plain": [
       "           MinTemp      MaxTemp     Rainfall  Evaporation     Sunshine  \\\n",
       "count  3790.000000  3790.000000  3790.000000  3790.000000  3790.000000   \n",
       "mean     14.071029    24.733483     2.451768     5.292533     7.852744   \n",
       "std       5.161176     6.068364     7.772025     3.642341     3.816696   \n",
       "min      -0.700000    10.800000     0.000000     0.000000     0.000000   \n",
       "25%      10.200000    20.300000     0.000000     2.800000     5.200000   \n",
       "50%      14.000000    24.100000     0.000000     4.600000     8.900000   \n",
       "75%      17.900000    29.200000     0.800000     7.000000    10.800000   \n",
       "max      28.500000    43.600000   168.400000    37.000000    13.900000   \n",
       "\n",
       "       WindGustSpeed  WindSpeed9am  WindSpeed3pm  Humidity9am  Humidity3pm  \\\n",
       "count    3790.000000   3790.000000   3790.000000  3790.000000  3790.000000   \n",
       "mean       41.203958     16.377836     20.099208    63.683641    49.435620   \n",
       "std        13.857829      9.516511      8.719867    16.273443    17.673797   \n",
       "min        13.000000      2.000000      2.000000    11.000000     6.000000   \n",
       "25%        31.000000      9.000000     13.000000    53.000000    38.000000   \n",
       "50%        39.000000     15.000000     20.000000    64.000000    49.000000   \n",
       "75%        50.000000     22.000000     26.000000    75.000000    61.000000   \n",
       "max       102.000000     61.000000     52.000000    99.000000    98.000000   \n",
       "\n",
       "       Pressure9am  Pressure3pm     Cloud9am     Cloud3pm      Temp9am  \\\n",
       "count  3790.000000  3790.000000  3790.000000  3790.000000  3790.000000   \n",
       "mean   1017.488047  1015.037836     4.116623     4.214776    18.963536   \n",
       "std       6.560724     6.485755     2.773039     2.647355     5.528374   \n",
       "min     992.900000   990.800000     0.000000     0.000000     4.500000   \n",
       "25%    1013.100000  1010.400000     1.000000     1.000000    14.900000   \n",
       "50%    1017.400000  1015.050000     5.000000     5.000000    18.700000   \n",
       "75%    1021.700000  1019.300000     7.000000     7.000000    23.200000   \n",
       "max    1039.000000  1035.600000     8.000000     8.000000    39.400000   \n",
       "\n",
       "           Temp3pm  \n",
       "count  3790.000000  \n",
       "mean     23.226201  \n",
       "std       5.929694  \n",
       "min       9.400000  \n",
       "25%      19.100000  \n",
       "50%      22.700000  \n",
       "75%      27.300000  \n",
       "max      42.400000  "
      ]
     },
     "execution_count": 12,
     "metadata": {},
     "output_type": "execute_result"
    }
   ],
   "source": [
    "df.describe()"
   ]
  },
  {
   "cell_type": "markdown",
   "id": "23b41e97",
   "metadata": {},
   "source": [
    "# EDA"
   ]
  },
  {
   "cell_type": "code",
   "execution_count": 13,
   "id": "7f8ab5df",
   "metadata": {},
   "outputs": [],
   "source": [
    "dfcor=df.corr()"
   ]
  },
  {
   "cell_type": "code",
   "execution_count": 14,
   "id": "24c0be83",
   "metadata": {},
   "outputs": [
    {
     "data": {
      "text/plain": [
       "<AxesSubplot:>"
      ]
     },
     "execution_count": 14,
     "metadata": {},
     "output_type": "execute_result"
    },
    {
     "data": {
      "image/png": "[encoded data removed]",
      "text/plain": [
       "<Figure size 1440x720 with 2 Axes>"
      ]
     },
     "metadata": {
      "needs_background": "light"
     },
     "output_type": "display_data"
    }
   ],
   "source": [
    "plt.figure(figsize=(20,10))\n",
    "sns.heatmap(dfcor,annot=True,linewidths=0.1,fmt='0.2f')"
   ]
  },
  {
   "cell_type": "code",
   "execution_count": 15,
   "id": "e8fd8840",
   "metadata": {},
   "outputs": [
    {
     "data": {
      "text/html": [
       "<div>\n",
       "<style scoped>\n",
       "    .dataframe tbody tr th:only-of-type {\n",
       "        vertical-align: middle;\n",
       "    }\n",
       "\n",
       "    .dataframe tbody tr th {\n",
       "        vertical-align: top;\n",
       "    }\n",
       "\n",
       "    .dataframe thead th {\n",
       "        text-align: right;\n",
       "    }\n",
       "</style>\n",
       "<table border=\"1\" class=\"dataframe\">\n",
       "  <thead>\n",
       "    <tr style=\"text-align: right;\">\n",
       "      <th></th>\n",
       "      <th>Date</th>\n",
       "      <th>Location</th>\n",
       "      <th>WindGustDir</th>\n",
       "      <th>WindDir9am</th>\n",
       "      <th>WindDir3pm</th>\n",
       "      <th>RainToday</th>\n",
       "      <th>RainTomorrow</th>\n",
       "    </tr>\n",
       "  </thead>\n",
       "  <tbody>\n",
       "    <tr>\n",
       "      <th>count</th>\n",
       "      <td>3790</td>\n",
       "      <td>3790</td>\n",
       "      <td>3790</td>\n",
       "      <td>3790</td>\n",
       "      <td>3790</td>\n",
       "      <td>3790</td>\n",
       "      <td>3790</td>\n",
       "    </tr>\n",
       "    <tr>\n",
       "      <th>unique</th>\n",
       "      <td>1873</td>\n",
       "      <td>6</td>\n",
       "      <td>16</td>\n",
       "      <td>16</td>\n",
       "      <td>16</td>\n",
       "      <td>2</td>\n",
       "      <td>2</td>\n",
       "    </tr>\n",
       "    <tr>\n",
       "      <th>top</th>\n",
       "      <td>2011-02-07</td>\n",
       "      <td>PerthAirport</td>\n",
       "      <td>N</td>\n",
       "      <td>N</td>\n",
       "      <td>S</td>\n",
       "      <td>No</td>\n",
       "      <td>No</td>\n",
       "    </tr>\n",
       "    <tr>\n",
       "      <th>freq</th>\n",
       "      <td>4</td>\n",
       "      <td>1159</td>\n",
       "      <td>449</td>\n",
       "      <td>547</td>\n",
       "      <td>406</td>\n",
       "      <td>2901</td>\n",
       "      <td>2901</td>\n",
       "    </tr>\n",
       "  </tbody>\n",
       "</table>\n",
       "</div>"
      ],
      "text/plain": [
       "              Date      Location WindGustDir WindDir9am WindDir3pm RainToday  \\\n",
       "count         3790          3790        3790       3790       3790      3790   \n",
       "unique        1873             6          16         16         16         2   \n",
       "top     2011-02-07  PerthAirport           N          N          S        No   \n",
       "freq             4          1159         449        547        406      2901   \n",
       "\n",
       "       RainTomorrow  \n",
       "count          3790  \n",
       "unique            2  \n",
       "top              No  \n",
       "freq           2901  "
      ]
     },
     "execution_count": 15,
     "metadata": {},
     "output_type": "execute_result"
    }
   ],
   "source": [
    "df.describe(include=[object])"
   ]
  },
  {
   "cell_type": "code",
   "execution_count": 21,
   "id": "3bd2294f",
   "metadata": {},
   "outputs": [
    {
     "name": "stdout",
     "output_type": "stream",
     "text": [
      "Number of Numerical Features: 16\n",
      "Numerical Features:  ['MinTemp', 'MaxTemp', 'Rainfall', 'Evaporation', 'Sunshine', 'WindGustSpeed', 'WindSpeed9am', 'WindSpeed3pm', 'Humidity9am', 'Humidity3pm', 'Pressure9am', 'Pressure3pm', 'Cloud9am', 'Cloud3pm', 'Temp9am', 'Temp3pm']\n"
     ]
    }
   ],
   "source": [
    "numerical_features = [column_name for column_name in df.columns if df[column_name].dtype != 'O']\n",
    "print(\"Number of Numerical Features: {}\".format(len(numerical_features)))\n",
    "print(\"Numerical Features: \",numerical_features)"
   ]
  },
  {
   "cell_type": "code",
   "execution_count": 17,
   "id": "d6dc39e8",
   "metadata": {},
   "outputs": [
    {
     "name": "stdout",
     "output_type": "stream",
     "text": [
      "Discrete feature Count 2\n",
      "Continuous feature Count 14\n"
     ]
    }
   ],
   "source": [
    "discrete_feature=[feature for feature in numerical_feature if len(df[feature].unique())<25]\n",
    "continuous_feature = [feature for feature in numerical_feature if feature not in discrete_feature]\n",
    "print(\"Discrete feature Count {}\".format(len(discrete_feature)))\n",
    "print(\"Continuous feature Count {}\".format(len(continuous_feature)))"
   ]
  },
  {
   "cell_type": "code",
   "execution_count": 18,
   "id": "005323e3",
   "metadata": {},
   "outputs": [
    {
     "name": "stdout",
     "output_type": "stream",
     "text": [
      "Number of Categorical Features: 7\n",
      "Categorical Features:  ['Date', 'Location', 'WindGustDir', 'WindDir9am', 'WindDir3pm', 'RainToday', 'RainTomorrow']\n"
     ]
    }
   ],
   "source": [
    "categorical_features = [column_name for column_name in df.columns if df[column_name].dtype == 'O']\n",
    "print(\"Number of Categorical Features: {}\".format(len(categorical_features)))\n",
    "print(\"Categorical Features: \",categorical_features)"
   ]
  },
  {
   "cell_type": "code",
   "execution_count": 20,
   "id": "d4dc8bae",
   "metadata": {},
   "outputs": [
    {
     "name": "stdout",
     "output_type": "stream",
     "text": [
      "Cardinality(no. of unique values) of Date are: 1873\n",
      "Cardinality(no. of unique values) of Location are: 6\n",
      "Cardinality(no. of unique values) of WindGustDir are: 16\n",
      "Cardinality(no. of unique values) of WindDir9am are: 16\n",
      "Cardinality(no. of unique values) of WindDir3pm are: 16\n",
      "Cardinality(no. of unique values) of RainToday are: 2\n",
      "Cardinality(no. of unique values) of RainTomorrow are: 2\n"
     ]
    }
   ],
   "source": [
    "for each_feature in categorical_features:\n",
    "    unique_values = len(df[each_feature].unique())\n",
    "    print(\"Cardinality(no. of unique values) of {} are: {}\".format(each_feature, unique_values))"
   ]
  },
  {
   "cell_type": "code",
   "execution_count": 22,
   "id": "b9c3d0ec",
   "metadata": {},
   "outputs": [],
   "source": [
    "df['Date'] = pd.to_datetime(df['Date'])\n",
    "df['year'] = df['Date'].dt.year\n",
    "df['month'] = df['Date'].dt.month\n",
    "df['day'] = df['Date'].dt.day"
   ]
  },
  {
   "cell_type": "code",
   "execution_count": 23,
   "id": "5d4bf466",
   "metadata": {},
   "outputs": [
    {
     "data": {
      "text/html": [
       "<div>\n",
       "<style scoped>\n",
       "    .dataframe tbody tr th:only-of-type {\n",
       "        vertical-align: middle;\n",
       "    }\n",
       "\n",
       "    .dataframe tbody tr th {\n",
       "        vertical-align: top;\n",
       "    }\n",
       "\n",
       "    .dataframe thead th {\n",
       "        text-align: right;\n",
       "    }\n",
       "</style>\n",
       "<table border=\"1\" class=\"dataframe\">\n",
       "  <thead>\n",
       "    <tr style=\"text-align: right;\">\n",
       "      <th></th>\n",
       "      <th>Location</th>\n",
       "      <th>MinTemp</th>\n",
       "      <th>MaxTemp</th>\n",
       "      <th>Rainfall</th>\n",
       "      <th>Evaporation</th>\n",
       "      <th>Sunshine</th>\n",
       "      <th>WindGustDir</th>\n",
       "      <th>WindGustSpeed</th>\n",
       "      <th>WindDir9am</th>\n",
       "      <th>WindDir3pm</th>\n",
       "      <th>...</th>\n",
       "      <th>Pressure3pm</th>\n",
       "      <th>Cloud9am</th>\n",
       "      <th>Cloud3pm</th>\n",
       "      <th>Temp9am</th>\n",
       "      <th>Temp3pm</th>\n",
       "      <th>RainToday</th>\n",
       "      <th>RainTomorrow</th>\n",
       "      <th>year</th>\n",
       "      <th>month</th>\n",
       "      <th>day</th>\n",
       "    </tr>\n",
       "  </thead>\n",
       "  <tbody>\n",
       "    <tr>\n",
       "      <th>907</th>\n",
       "      <td>CoffsHarbour</td>\n",
       "      <td>19.8</td>\n",
       "      <td>27.1</td>\n",
       "      <td>24.4</td>\n",
       "      <td>8.6</td>\n",
       "      <td>9.0</td>\n",
       "      <td>ESE</td>\n",
       "      <td>35.0</td>\n",
       "      <td>SW</td>\n",
       "      <td>ESE</td>\n",
       "      <td>...</td>\n",
       "      <td>1017.9</td>\n",
       "      <td>6.0</td>\n",
       "      <td>6.0</td>\n",
       "      <td>22.0</td>\n",
       "      <td>26.0</td>\n",
       "      <td>Yes</td>\n",
       "      <td>Yes</td>\n",
       "      <td>2009</td>\n",
       "      <td>3</td>\n",
       "      <td>10</td>\n",
       "    </tr>\n",
       "    <tr>\n",
       "      <th>908</th>\n",
       "      <td>CoffsHarbour</td>\n",
       "      <td>18.7</td>\n",
       "      <td>25.6</td>\n",
       "      <td>6.8</td>\n",
       "      <td>3.8</td>\n",
       "      <td>3.4</td>\n",
       "      <td>E</td>\n",
       "      <td>33.0</td>\n",
       "      <td>SW</td>\n",
       "      <td>S</td>\n",
       "      <td>...</td>\n",
       "      <td>1020.1</td>\n",
       "      <td>4.0</td>\n",
       "      <td>7.0</td>\n",
       "      <td>21.0</td>\n",
       "      <td>20.9</td>\n",
       "      <td>Yes</td>\n",
       "      <td>Yes</td>\n",
       "      <td>2009</td>\n",
       "      <td>3</td>\n",
       "      <td>11</td>\n",
       "    </tr>\n",
       "    <tr>\n",
       "      <th>909</th>\n",
       "      <td>CoffsHarbour</td>\n",
       "      <td>16.5</td>\n",
       "      <td>25.5</td>\n",
       "      <td>16.8</td>\n",
       "      <td>2.8</td>\n",
       "      <td>6.1</td>\n",
       "      <td>WSW</td>\n",
       "      <td>19.0</td>\n",
       "      <td>WSW</td>\n",
       "      <td>ESE</td>\n",
       "      <td>...</td>\n",
       "      <td>1020.1</td>\n",
       "      <td>5.0</td>\n",
       "      <td>7.0</td>\n",
       "      <td>21.0</td>\n",
       "      <td>24.5</td>\n",
       "      <td>Yes</td>\n",
       "      <td>No</td>\n",
       "      <td>2009</td>\n",
       "      <td>3</td>\n",
       "      <td>12</td>\n",
       "    </tr>\n",
       "    <tr>\n",
       "      <th>910</th>\n",
       "      <td>CoffsHarbour</td>\n",
       "      <td>18.5</td>\n",
       "      <td>26.9</td>\n",
       "      <td>0.0</td>\n",
       "      <td>3.2</td>\n",
       "      <td>11.0</td>\n",
       "      <td>ENE</td>\n",
       "      <td>30.0</td>\n",
       "      <td>SW</td>\n",
       "      <td>ENE</td>\n",
       "      <td>...</td>\n",
       "      <td>1016.6</td>\n",
       "      <td>2.0</td>\n",
       "      <td>5.0</td>\n",
       "      <td>23.3</td>\n",
       "      <td>26.4</td>\n",
       "      <td>No</td>\n",
       "      <td>No</td>\n",
       "      <td>2009</td>\n",
       "      <td>3</td>\n",
       "      <td>13</td>\n",
       "    </tr>\n",
       "    <tr>\n",
       "      <th>911</th>\n",
       "      <td>CoffsHarbour</td>\n",
       "      <td>18.2</td>\n",
       "      <td>28.2</td>\n",
       "      <td>0.0</td>\n",
       "      <td>6.8</td>\n",
       "      <td>9.0</td>\n",
       "      <td>NNE</td>\n",
       "      <td>50.0</td>\n",
       "      <td>NNW</td>\n",
       "      <td>NE</td>\n",
       "      <td>...</td>\n",
       "      <td>1012.8</td>\n",
       "      <td>1.0</td>\n",
       "      <td>1.0</td>\n",
       "      <td>24.0</td>\n",
       "      <td>25.9</td>\n",
       "      <td>No</td>\n",
       "      <td>Yes</td>\n",
       "      <td>2009</td>\n",
       "      <td>3</td>\n",
       "      <td>14</td>\n",
       "    </tr>\n",
       "  </tbody>\n",
       "</table>\n",
       "<p>5 rows × 25 columns</p>\n",
       "</div>"
      ],
      "text/plain": [
       "         Location  MinTemp  MaxTemp  Rainfall  Evaporation  Sunshine  \\\n",
       "907  CoffsHarbour     19.8     27.1      24.4          8.6       9.0   \n",
       "908  CoffsHarbour     18.7     25.6       6.8          3.8       3.4   \n",
       "909  CoffsHarbour     16.5     25.5      16.8          2.8       6.1   \n",
       "910  CoffsHarbour     18.5     26.9       0.0          3.2      11.0   \n",
       "911  CoffsHarbour     18.2     28.2       0.0          6.8       9.0   \n",
       "\n",
       "    WindGustDir  WindGustSpeed WindDir9am WindDir3pm  ...  Pressure3pm  \\\n",
       "907         ESE           35.0         SW        ESE  ...       1017.9   \n",
       "908           E           33.0         SW          S  ...       1020.1   \n",
       "909         WSW           19.0        WSW        ESE  ...       1020.1   \n",
       "910         ENE           30.0         SW        ENE  ...       1016.6   \n",
       "911         NNE           50.0        NNW         NE  ...       1012.8   \n",
       "\n",
       "     Cloud9am  Cloud3pm  Temp9am  Temp3pm  RainToday  RainTomorrow  year  \\\n",
       "907       6.0       6.0     22.0     26.0        Yes           Yes  2009   \n",
       "908       4.0       7.0     21.0     20.9        Yes           Yes  2009   \n",
       "909       5.0       7.0     21.0     24.5        Yes            No  2009   \n",
       "910       2.0       5.0     23.3     26.4         No            No  2009   \n",
       "911       1.0       1.0     24.0     25.9         No           Yes  2009   \n",
       "\n",
       "     month  day  \n",
       "907      3   10  \n",
       "908      3   11  \n",
       "909      3   12  \n",
       "910      3   13  \n",
       "911      3   14  \n",
       "\n",
       "[5 rows x 25 columns]"
      ]
     },
     "execution_count": 23,
     "metadata": {},
     "output_type": "execute_result"
    }
   ],
   "source": [
    "df.drop('Date', axis = 1, inplace = True)\n",
    "df.head()"
   ]
  },
  {
   "cell_type": "code",
   "execution_count": 24,
   "id": "12933227",
   "metadata": {},
   "outputs": [
    {
     "data": {
      "text/plain": [
       "Location        0\n",
       "WindGustDir     0\n",
       "WindDir9am      0\n",
       "WindDir3pm      0\n",
       "RainToday       0\n",
       "RainTomorrow    0\n",
       "dtype: int64"
      ]
     },
     "execution_count": 24,
     "metadata": {},
     "output_type": "execute_result"
    }
   ],
   "source": [
    "#Handling Missing values in Categorical Features\n",
    "categorical_features = [column_name for column_name in df.columns if df[column_name].dtype == 'O']\n",
    "df[categorical_features].isnull().sum()"
   ]
  },
  {
   "cell_type": "code",
   "execution_count": 25,
   "id": "bee12e98",
   "metadata": {},
   "outputs": [],
   "source": [
    "categorical_features_with_null = [feature for feature in categorical_features if df[feature].isnull().sum()]\n",
    "for each_feature in categorical_features_with_null:\n",
    "    mode_val = df[each_feature].mode()[0]\n",
    "    df[each_feature].fillna(mode_val,inplace=True)"
   ]
  },
  {
   "cell_type": "code",
   "execution_count": 26,
   "id": "bf29e8a4",
   "metadata": {},
   "outputs": [
    {
     "data": {
      "text/plain": [
       "MinTemp          0\n",
       "MaxTemp          0\n",
       "Rainfall         0\n",
       "Evaporation      0\n",
       "Sunshine         0\n",
       "WindGustSpeed    0\n",
       "WindSpeed9am     0\n",
       "WindSpeed3pm     0\n",
       "Humidity9am      0\n",
       "Humidity3pm      0\n",
       "Pressure9am      0\n",
       "Pressure3pm      0\n",
       "Cloud9am         0\n",
       "Cloud3pm         0\n",
       "Temp9am          0\n",
       "Temp3pm          0\n",
       "year             0\n",
       "month            0\n",
       "day              0\n",
       "dtype: int64"
      ]
     },
     "execution_count": 26,
     "metadata": {},
     "output_type": "execute_result"
    }
   ],
   "source": [
    "numerical_features = [column_name for column_name in df.columns if df[column_name].dtype != 'O']\n",
    "df[numerical_features].isnull().sum()"
   ]
  },
  {
   "cell_type": "code",
   "execution_count": 27,
   "id": "df77cc29",
   "metadata": {},
   "outputs": [],
   "source": [
    "features_with_outliers = ['MinTemp', 'MaxTemp', 'Rainfall', 'Evaporation', 'WindGustSpeed','WindSpeed9am', 'WindSpeed3pm', 'Humidity9am', 'Pressure9am', 'Pressure3pm', 'Temp9am', 'Temp3pm']\n",
    "for feature in features_with_outliers:\n",
    "    q1 = df[feature].quantile(0.25)\n",
    "    q3 = df[feature].quantile(0.75)\n",
    "    IQR = q3-q1\n",
    "    lower_limit = q1 - (IQR*1.5)\n",
    "    upper_limit = q3 + (IQR*1.5)\n",
    "    df.loc[df[feature]<lower_limit,feature] = lower_limit\n",
    "    df.loc[df[feature]>upper_limit,feature] = upper_limit"
   ]
  },
  {
   "cell_type": "code",
   "execution_count": 28,
   "id": "4e049f50",
   "metadata": {},
   "outputs": [],
   "source": [
    "numerical_features_with_null = [feature for feature in numerical_features if df[feature].isnull().sum()]\n",
    "for feature in numerical_features_with_null:\n",
    "    mean_value = df[feature].mean()\n",
    "    df[feature].fillna(mean_value,inplace=True)"
   ]
  },
  {
   "cell_type": "code",
   "execution_count": 30,
   "id": "819219b1",
   "metadata": {},
   "outputs": [
    {
     "data": {
      "text/plain": [
       "<AxesSubplot:>"
      ]
     },
     "execution_count": 30,
     "metadata": {},
     "output_type": "execute_result"
    },
    {
     "data": {
      "image/png": "[encoded data removed]",
      "text/plain": [
       "<Figure size 432x288 with 1 Axes>"
      ]
     },
     "metadata": {
      "needs_background": "light"
     },
     "output_type": "display_data"
    }
   ],
   "source": [
    "#Univariate Analysis\n",
    "\n",
    "df['RainTomorrow'].value_counts().plot(kind='bar')"
   ]
  },
  {
   "cell_type": "code",
   "execution_count": 32,
   "id": "f5d63599",
   "metadata": {},
   "outputs": [
    {
     "data": {
      "text/plain": [
       "<AxesSubplot:xlabel='Sunshine', ylabel='Rainfall'>"
      ]
     },
     "execution_count": 32,
     "metadata": {},
     "output_type": "execute_result"
    },
    {
     "data": {
      "image/png": "[encoded data removed]",
      "text/plain": [
       "<Figure size 432x288 with 1 Axes>"
      ]
     },
     "metadata": {
      "needs_background": "light"
     },
     "output_type": "display_data"
    }
   ],
   "source": [
    "#Bivaraiate Analysis\n",
    "\n",
    "sns.lineplot(data=df,x='Sunshine',y='Rainfall',color='blue')"
   ]
  },
  {
   "cell_type": "markdown",
   "id": "d0bde632",
   "metadata": {},
   "source": [
    "The Sunshine feature is inversely proportional to the Rainfall feature"
   ]
  },
  {
   "cell_type": "code",
   "execution_count": 33,
   "id": "acf565df",
   "metadata": {},
   "outputs": [],
   "source": [
    "def encode_data(feature_name):\n",
    "\n",
    "    mapping_dict = {}\n",
    "\n",
    "    unique_values = list(df[feature_name].unique())\n",
    "\n",
    "    for idx in range(len(unique_values)):\n",
    "\n",
    "        mapping_dict[unique_values[idx]] = idx\n",
    "\n",
    "    return mapping_dict\n",
    "\n",
    "df['RainToday'].replace({'No':0, 'Yes': 1}, inplace = True)\n",
    "\n",
    "df['RainTomorrow'].replace({'No':0, 'Yes': 1}, inplace = True)\n",
    "\n",
    "df['WindGustDir'].replace(encode_data('WindGustDir'),inplace = True)\n",
    "\n",
    "df['WindDir9am'].replace(encode_data('WindDir9am'),inplace = True)\n",
    "\n",
    "df['WindDir3pm'].replace(encode_data('WindDir3pm'),inplace = True)\n",
    "\n",
    "df['Location'].replace(encode_data('Location'), inplace = True)"
   ]
  },
  {
   "cell_type": "code",
   "execution_count": 35,
   "id": "39d037e0",
   "metadata": {},
   "outputs": [
    {
     "data": {
      "text/plain": [
       "<AxesSubplot:>"
      ]
     },
     "execution_count": 35,
     "metadata": {},
     "output_type": "execute_result"
    },
    {
     "data": {
      "image/png": "[encoded data removed]",
      "text/plain": [
       "<Figure size 1440x1440 with 2 Axes>"
      ]
     },
     "metadata": {
      "needs_background": "light"
     },
     "output_type": "display_data"
    }
   ],
   "source": [
    "plt.figure(figsize=(20,20))\n",
    "sns.heatmap(df.corr(), linewidths=0.5, annot=False, fmt=\".2f\")"
   ]
  },
  {
   "cell_type": "code",
   "execution_count": 36,
   "id": "09e8c306",
   "metadata": {},
   "outputs": [],
   "source": [
    "X = df.drop(['RainTomorrow'],axis=1)\n",
    "y = df['RainTomorrow']"
   ]
  },
  {
   "cell_type": "code",
   "execution_count": 37,
   "id": "3a0d7a66",
   "metadata": {},
   "outputs": [
    {
     "data": {
      "text/plain": [
       "array([0.02559657, 0.02411687, 0.02136832, 0.03759638, 0.02532641,\n",
       "       0.12519375, 0.02731326, 0.06697463, 0.02810135, 0.02785294,\n",
       "       0.02956862, 0.03037004, 0.0325025 , 0.18093801, 0.03256905,\n",
       "       0.04036715, 0.02372121, 0.07711568, 0.02408248, 0.02072493,\n",
       "       0.02379295, 0.02125782, 0.02552517, 0.02802392])"
      ]
     },
     "execution_count": 37,
     "metadata": {},
     "output_type": "execute_result"
    }
   ],
   "source": [
    "from sklearn.ensemble import ExtraTreesRegressor\n",
    "etr_model = ExtraTreesRegressor()\n",
    "etr_model.fit(X,y)\n",
    "etr_model.feature_importances_"
   ]
  },
  {
   "cell_type": "code",
   "execution_count": 38,
   "id": "63142487",
   "metadata": {},
   "outputs": [
    {
     "data": {
      "text/plain": [
       "<AxesSubplot:>"
      ]
     },
     "execution_count": 38,
     "metadata": {},
     "output_type": "execute_result"
    },
    {
     "data": {
      "image/png": "[encoded data removed]",
      "text/plain": [
       "<Figure size 432x288 with 1 Axes>"
      ]
     },
     "metadata": {
      "needs_background": "light"
     },
     "output_type": "display_data"
    }
   ],
   "source": [
    "feature_imp = pd.Series(etr_model.feature_importances_,index=X.columns)\n",
    "feature_imp.nlargest(10).plot(kind='barh')"
   ]
  },
  {
   "cell_type": "code",
   "execution_count": 39,
   "id": "13478ed7",
   "metadata": {},
   "outputs": [],
   "source": [
    "from sklearn.model_selection import train_test_split\n",
    "X_train, X_test, y_train, y_test = train_test_split(X,y, test_size = 0.2, random_state = 0)"
   ]
  },
  {
   "cell_type": "code",
   "execution_count": 40,
   "id": "05801e94",
   "metadata": {},
   "outputs": [],
   "source": [
    "from sklearn.preprocessing import StandardScaler\n",
    "scaler = StandardScaler()\n",
    "X_train = scaler.fit_transform(X_train)"
   ]
  },
  {
   "cell_type": "code",
   "execution_count": 41,
   "id": "7cb0aa2d",
   "metadata": {},
   "outputs": [],
   "source": [
    "X_test = scaler.transform(X_test)"
   ]
  },
  {
   "cell_type": "code",
   "execution_count": 43,
   "id": "33f131d9",
   "metadata": {},
   "outputs": [
    {
     "data": {
      "text/plain": [
       "LogisticRegression(random_state=0, solver='liblinear')"
      ]
     },
     "execution_count": 43,
     "metadata": {},
     "output_type": "execute_result"
    }
   ],
   "source": [
    "#LogisticRegression\n",
    "from sklearn.linear_model import LogisticRegression\n",
    "lr = LogisticRegression(solver='liblinear', random_state=0)\n",
    "lr.fit(X_train, y_train)"
   ]
  },
  {
   "cell_type": "code",
   "execution_count": 44,
   "id": "9922dde0",
   "metadata": {},
   "outputs": [
    {
     "data": {
      "text/plain": [
       "array([0, 0, 0, 0, 0, 0, 0, 0, 0, 0, 0, 0, 1, 0, 1, 0, 0, 0, 1, 0, 1, 1,\n",
       "       0, 0, 1, 0, 0, 0, 1, 0, 0, 1, 1, 0, 0, 0, 1, 0, 0, 0, 0, 0, 0, 0,\n",
       "       0, 0, 1, 0, 0, 0, 1, 0, 1, 0, 0, 0, 0, 0, 0, 0, 0, 0, 0, 0, 0, 0,\n",
       "       0, 0, 0, 1, 0, 0, 0, 0, 0, 0, 1, 1, 1, 0, 1, 0, 0, 0, 0, 0, 0, 0,\n",
       "       1, 0, 0, 1, 0, 1, 0, 0, 1, 0, 0, 0, 0, 0, 1, 0, 1, 0, 0, 0, 1, 0,\n",
       "       0, 0, 0, 0, 0, 0, 0, 0, 1, 0, 0, 0, 0, 0, 1, 0, 1, 1, 0, 0, 0, 0,\n",
       "       1, 0, 0, 0, 0, 0, 1, 1, 0, 0, 0, 0, 0, 0, 1, 0, 0, 0, 0, 0, 0, 0,\n",
       "       0, 0, 1, 1, 0, 0, 0, 0, 0, 1, 1, 0, 0, 0, 0, 0, 1, 0, 0, 1, 0, 0,\n",
       "       0, 1, 0, 0, 1, 0, 0, 0, 0, 0, 1, 0, 0, 0, 1, 0, 0, 0, 0, 1, 0, 0,\n",
       "       0, 0, 0, 1, 0, 0, 0, 0, 0, 0, 0, 0, 0, 0, 0, 0, 0, 0, 0, 0, 0, 0,\n",
       "       0, 0, 0, 1, 0, 1, 0, 0, 0, 0, 0, 0, 1, 0, 1, 0, 0, 0, 1, 0, 0, 0,\n",
       "       0, 0, 1, 0, 0, 0, 0, 0, 0, 0, 0, 0, 1, 1, 0, 0, 0, 0, 0, 0, 0, 0,\n",
       "       0, 0, 0, 0, 0, 0, 0, 0, 0, 0, 0, 0, 0, 0, 1, 0, 0, 0, 0, 0, 0, 0,\n",
       "       0, 0, 0, 0, 0, 0, 0, 0, 1, 1, 0, 0, 1, 0, 1, 0, 0, 0, 0, 0, 0, 0,\n",
       "       1, 0, 1, 1, 1, 0, 0, 0, 0, 1, 0, 0, 0, 0, 0, 0, 0, 0, 0, 0, 0, 0,\n",
       "       0, 1, 0, 0, 0, 0, 0, 0, 0, 0, 0, 0, 1, 0, 0, 0, 0, 0, 0, 0, 1, 0,\n",
       "       0, 0, 0, 0, 0, 0, 1, 0, 0, 0, 0, 0, 0, 0, 0, 0, 0, 1, 0, 0, 0, 0,\n",
       "       0, 0, 1, 0, 0, 0, 1, 1, 0, 1, 0, 0, 0, 1, 0, 0, 0, 0, 0, 1, 0, 0,\n",
       "       0, 0, 0, 0, 0, 0, 0, 0, 0, 0, 0, 0, 0, 0, 0, 0, 0, 0, 1, 0, 0, 0,\n",
       "       0, 0, 0, 0, 1, 0, 0, 0, 0, 0, 0, 0, 0, 0, 1, 0, 0, 0, 0, 0, 0, 0,\n",
       "       0, 0, 0, 0, 0, 0, 0, 1, 0, 0, 0, 0, 0, 0, 1, 0, 0, 0, 0, 0, 0, 0,\n",
       "       1, 1, 0, 0, 0, 0, 0, 0, 0, 1, 1, 0, 0, 0, 0, 0, 0, 1, 0, 0, 1, 0,\n",
       "       0, 0, 0, 0, 1, 0, 1, 1, 0, 0, 0, 0, 0, 0, 0, 1, 0, 0, 0, 0, 1, 1,\n",
       "       0, 0, 1, 0, 1, 1, 0, 0, 0, 0, 0, 0, 0, 0, 0, 0, 0, 0, 0, 1, 1, 1,\n",
       "       1, 0, 0, 0, 0, 0, 0, 0, 0, 0, 1, 1, 0, 0, 0, 0, 0, 1, 1, 0, 0, 0,\n",
       "       0, 0, 0, 1, 0, 0, 0, 0, 1, 0, 0, 0, 1, 0, 0, 0, 0, 0, 0, 1, 0, 0,\n",
       "       0, 1, 0, 0, 0, 0, 0, 0, 0, 0, 0, 0, 0, 1, 0, 0, 1, 0, 0, 0, 1, 0,\n",
       "       1, 0, 0, 1, 0, 0, 0, 0, 0, 0, 0, 0, 0, 0, 0, 1, 0, 1, 0, 0, 0, 0,\n",
       "       0, 0, 0, 0, 1, 1, 0, 1, 0, 1, 0, 0, 1, 0, 0, 0, 0, 1, 0, 0, 0, 0,\n",
       "       0, 1, 0, 0, 0, 0, 0, 0, 0, 0, 0, 0, 0, 1, 0, 1, 1, 1, 0, 0, 0, 0,\n",
       "       0, 0, 1, 0, 0, 0, 0, 1, 0, 0, 0, 0, 0, 0, 0, 0, 1, 0, 1, 0, 0, 0,\n",
       "       1, 0, 1, 0, 0, 0, 1, 1, 0, 0, 0, 0, 1, 0, 0, 1, 0, 1, 0, 0, 0, 0,\n",
       "       0, 0, 0, 0, 0, 0, 0, 1, 0, 0, 1, 0, 0, 1, 1, 0, 0, 0, 0, 0, 0, 1,\n",
       "       1, 0, 0, 0, 0, 0, 0, 0, 0, 1, 0, 0, 0, 1, 0, 0, 0, 1, 1, 0, 0, 0,\n",
       "       0, 0, 1, 0, 1, 0, 0, 0, 0, 0], dtype=int64)"
      ]
     },
     "execution_count": 44,
     "metadata": {},
     "output_type": "execute_result"
    }
   ],
   "source": [
    "y_pred = lr.predict(X_test)\n",
    "y_pred"
   ]
  },
  {
   "cell_type": "code",
   "execution_count": 56,
   "id": "553ed2e7",
   "metadata": {},
   "outputs": [
    {
     "name": "stdout",
     "output_type": "stream",
     "text": [
      "Accuracy Score: 0.8562005277044855\n"
     ]
    }
   ],
   "source": [
    "#Accuracy Score\n",
    "from sklearn.metrics import accuracy_score,confusion_matrix,classification_report\n",
    "print(\"Accuracy Score: {}\".format(accuracy_score(y_test,y_pred)))"
   ]
  },
  {
   "cell_type": "code",
   "execution_count": 49,
   "id": "06c7ff41",
   "metadata": {},
   "outputs": [
    {
     "data": {
      "text/plain": [
       "0.8594986807387863"
      ]
     },
     "execution_count": 49,
     "metadata": {},
     "output_type": "execute_result"
    }
   ],
   "source": [
    "lr.score(X_train, y_train)"
   ]
  },
  {
   "cell_type": "code",
   "execution_count": 50,
   "id": "e2d84542",
   "metadata": {},
   "outputs": [
    {
     "data": {
      "text/plain": [
       "0.8562005277044855"
      ]
     },
     "execution_count": 50,
     "metadata": {},
     "output_type": "execute_result"
    }
   ],
   "source": [
    "lr.score(X_test, y_test)"
   ]
  },
  {
   "cell_type": "code",
   "execution_count": 51,
   "id": "657e9d79",
   "metadata": {},
   "outputs": [
    {
     "name": "stdout",
     "output_type": "stream",
     "text": [
      "[[537  36]\n",
      " [ 73 112]]\n"
     ]
    }
   ],
   "source": [
    "print(confusion_matrix(y_test,y_pred))"
   ]
  },
  {
   "cell_type": "code",
   "execution_count": 53,
   "id": "f1e4baae",
   "metadata": {},
   "outputs": [
    {
     "data": {
      "image/png": "[encoded data removed]",
      "text/plain": [
       "<Figure size 432x288 with 1 Axes>"
      ]
     },
     "metadata": {
      "needs_background": "light"
     },
     "output_type": "display_data"
    }
   ],
   "source": [
    "y_pred_lr = lr.predict_proba(X_test)\n",
    "from sklearn.metrics import roc_curve\n",
    "fpr, tpr, thresholds = roc_curve(y_test, y_pred_lr[:,1])\n",
    "plt.figure(figsize=(6,4))\n",
    "plt.plot(fpr,tpr,'-b',linewidth=1)\n",
    "plt.plot([0,1], [0,1], 'k--' )\n",
    "plt.title('ROC curve for Logistic Regression Model')\n",
    "plt.xlabel(\"False Positive Rate\")\n",
    "plt.ylabel('True Positive Rate')\n",
    "plt.show()"
   ]
  },
  {
   "cell_type": "code",
   "execution_count": 54,
   "id": "21425b8b",
   "metadata": {},
   "outputs": [
    {
     "name": "stdout",
     "output_type": "stream",
     "text": [
      "Cross-validation scores:[0.8616145  0.85337727 0.85478548 0.8679868  0.83333333]\n",
      "Average cross-validation score: 0.8542194746657532\n"
     ]
    }
   ],
   "source": [
    "#Cross Valaidation\n",
    "from sklearn.model_selection import cross_val_score\n",
    "scores = cross_val_score(classifier_logreg, X_train, y_train, cv = 5, scoring='accuracy')\n",
    "print('Cross-validation scores:{}'.format(scores))\n",
    "print('Average cross-validation score: {}'.format(scores.mean()))"
   ]
  },
  {
   "cell_type": "code",
   "execution_count": 57,
   "id": "473d0bbe",
   "metadata": {},
   "outputs": [
    {
     "name": "stdout",
     "output_type": "stream",
     "text": [
      "Train score 0.8598284960422163\n",
      "Accuracy score of LogisticRegression() is:\n",
      "0.8575197889182058\n",
      "[[538  35]\n",
      " [ 73 112]]\n",
      "              precision    recall  f1-score   support\n",
      "\n",
      "           0       0.88      0.94      0.91       573\n",
      "           1       0.76      0.61      0.67       185\n",
      "\n",
      "    accuracy                           0.86       758\n",
      "   macro avg       0.82      0.77      0.79       758\n",
      "weighted avg       0.85      0.86      0.85       758\n",
      "\n",
      "\n",
      "\n",
      "Train score 0.7932058047493403\n",
      "Accuracy score of GaussianNB() is:\n",
      "0.7994722955145118\n",
      "[[465 108]\n",
      " [ 44 141]]\n",
      "              precision    recall  f1-score   support\n",
      "\n",
      "           0       0.91      0.81      0.86       573\n",
      "           1       0.57      0.76      0.65       185\n",
      "\n",
      "    accuracy                           0.80       758\n",
      "   macro avg       0.74      0.79      0.75       758\n",
      "weighted avg       0.83      0.80      0.81       758\n",
      "\n",
      "\n",
      "\n",
      "Train score 0.9053430079155673\n",
      "Accuracy score of SVC() is:\n",
      "0.8680738786279684\n",
      "[[543  30]\n",
      " [ 70 115]]\n",
      "              precision    recall  f1-score   support\n",
      "\n",
      "           0       0.89      0.95      0.92       573\n",
      "           1       0.79      0.62      0.70       185\n",
      "\n",
      "    accuracy                           0.87       758\n",
      "   macro avg       0.84      0.78      0.81       758\n",
      "weighted avg       0.86      0.87      0.86       758\n",
      "\n",
      "\n",
      "\n",
      "Train score 1.0\n",
      "Accuracy score of DecisionTreeClassifier() is:\n",
      "0.8601583113456465\n",
      "[[514  59]\n",
      " [ 47 138]]\n",
      "              precision    recall  f1-score   support\n",
      "\n",
      "           0       0.92      0.90      0.91       573\n",
      "           1       0.70      0.75      0.72       185\n",
      "\n",
      "    accuracy                           0.86       758\n",
      "   macro avg       0.81      0.82      0.81       758\n",
      "weighted avg       0.86      0.86      0.86       758\n",
      "\n",
      "\n",
      "\n",
      "Train score 0.8908311345646438\n",
      "Accuracy score of KNeighborsClassifier() is:\n",
      "0.8482849604221636\n",
      "[[531  42]\n",
      " [ 73 112]]\n",
      "              precision    recall  f1-score   support\n",
      "\n",
      "           0       0.88      0.93      0.90       573\n",
      "           1       0.73      0.61      0.66       185\n",
      "\n",
      "    accuracy                           0.85       758\n",
      "   macro avg       0.80      0.77      0.78       758\n",
      "weighted avg       0.84      0.85      0.84       758\n",
      "\n",
      "\n",
      "\n"
     ]
    }
   ],
   "source": [
    "import sklearn\n",
    "from sklearn.naive_bayes import GaussianNB\n",
    "from sklearn.svm import SVC\n",
    "from sklearn.tree import DecisionTreeClassifier\n",
    "from sklearn.neighbors import KNeighborsClassifier\n",
    "\n",
    "model=[LogisticRegression(),GaussianNB(),SVC(),DecisionTreeClassifier(),KNeighborsClassifier(),]\n",
    "\n",
    "for m in model:\n",
    "    m.fit(X_train,y_train)\n",
    "    m.score(X_train,y_train)\n",
    "    predm=m.predict(X_test)\n",
    "    print(\"Train score\",m.score(X_train,y_train))\n",
    "    print('Accuracy score of',m, 'is:')\n",
    "    print(accuracy_score(y_test,predm))\n",
    "    print(confusion_matrix(y_test,predm))\n",
    "    print(classification_report(y_test,predm))\n",
    "    print('\\n')"
   ]
  },
  {
   "cell_type": "code",
   "execution_count": 59,
   "id": "551b3e9e",
   "metadata": {},
   "outputs": [
    {
     "name": "stdout",
     "output_type": "stream",
     "text": [
      "Train score 1.0\n",
      "Test score 0.9142480211081794\n",
      "[[555  18]\n",
      " [ 47 138]]\n",
      "              precision    recall  f1-score   support\n",
      "\n",
      "           0       0.92      0.97      0.94       573\n",
      "           1       0.88      0.75      0.81       185\n",
      "\n",
      "    accuracy                           0.91       758\n",
      "   macro avg       0.90      0.86      0.88       758\n",
      "weighted avg       0.91      0.91      0.91       758\n",
      "\n"
     ]
    }
   ],
   "source": [
    "from sklearn.ensemble import RandomForestClassifier\n",
    "rfc = RandomForestClassifier(n_estimators=100,random_state=170,criterion='gini')\n",
    "rfc.fit(X_train,y_train)\n",
    "\n",
    "# Prediction\n",
    "predrfc = rfc.predict(X_test)\n",
    "print(\"Train score\",rfc.score(X_train,y_train))\n",
    "print(\"Test score\",accuracy_score(y_test, predrfc))\n",
    "print(confusion_matrix(y_test, predrfc))\n",
    "print(classification_report(y_test,predrfc))"
   ]
  },
  {
   "cell_type": "code",
   "execution_count": 60,
   "id": "3fb1585d",
   "metadata": {},
   "outputs": [
    {
     "name": "stdout",
     "output_type": "stream",
     "text": [
      "Train score 0.9119393139841688\n",
      "Test score 0.8839050131926122\n",
      "[[548  25]\n",
      " [ 63 122]]\n",
      "              precision    recall  f1-score   support\n",
      "\n",
      "           0       0.90      0.96      0.93       573\n",
      "           1       0.83      0.66      0.73       185\n",
      "\n",
      "    accuracy                           0.88       758\n",
      "   macro avg       0.86      0.81      0.83       758\n",
      "weighted avg       0.88      0.88      0.88       758\n",
      "\n"
     ]
    }
   ],
   "source": [
    "from sklearn.ensemble import GradientBoostingClassifier, BaggingClassifier\n",
    "GBc = GradientBoostingClassifier()\n",
    "GBc.fit(X_train,y_train)\n",
    "\n",
    "# Prediction\n",
    "predGBc = GBc.predict(X_test)\n",
    "print(\"Train score\",GBc.score(X_train,y_train))\n",
    "print(\"Test score\",accuracy_score(y_test, predGBc))\n",
    "print(confusion_matrix(y_test, predGBc))\n",
    "print(classification_report(y_test,predGBc))"
   ]
  },
  {
   "cell_type": "markdown",
   "id": "51a72401",
   "metadata": {},
   "source": [
    "Here train score and test score both are having good accoracy and the variance between train and test score is almost nil. So we can Select this model"
   ]
  },
  {
   "cell_type": "code",
   "execution_count": 61,
   "id": "66f55375",
   "metadata": {},
   "outputs": [
    {
     "name": "stdout",
     "output_type": "stream",
     "text": [
      "Fitting 5 folds for each of 50 candidates, totalling 250 fits\n",
      "Train score 1.0\n",
      "score 0.8941317195970008\n",
      "best parameter {'n_estimators': 300, 'max_depth': 5, 'learning_rate': 0.3}\n",
      "best estimator GradientBoostingClassifier(learning_rate=0.3, max_depth=5, n_estimators=300)\n"
     ]
    }
   ],
   "source": [
    "#Hyperparameter Tuning\n",
    "from sklearn.model_selection import RandomizedSearchCV,cross_val_score\n",
    "para = {\"n_estimators\":[100,200,300,400],\n",
    "        \"learning_rate\":[0.1,0.3,0.5],\n",
    "        \"max_depth\" :[3,5,7,9,10]}\n",
    "\n",
    "grid = RandomizedSearchCV(GBc, para, scoring= \"accuracy\",cv = 5, n_iter=50,n_jobs=-1,verbose=2)\n",
    "\n",
    "grid.fit(X_train,y_train)\n",
    "print(\"Train score\",grid.score(X_train,y_train))\n",
    "print(\"score\",grid.best_score_)\n",
    "print(\"best parameter\",grid.best_params_)\n",
    "print(\"best estimator\",grid.best_estimator_)\n",
    "grid_pred=grid.best_estimator_.predict(X_test) # predicting with best parameters"
   ]
  },
  {
   "cell_type": "code",
   "execution_count": 67,
   "id": "eba7648a",
   "metadata": {},
   "outputs": [
    {
     "data": {
      "text/plain": [
       "0.9050131926121372"
      ]
     },
     "execution_count": 67,
     "metadata": {},
     "output_type": "execute_result"
    }
   ],
   "source": [
    "RainTomorrow =GradientBoostingClassifier(learning_rate=0.5, max_depth=10, n_estimators=400)\n",
    "RainTomorrow.fit(X_train, y_train)\n",
    "pred = RainTomorrow.predict(X_test)\n",
    "acc=accuracy_score(y_test,pred)\n",
    "acc"
   ]
  },
  {
   "cell_type": "code",
   "execution_count": 69,
   "id": "f33ed432",
   "metadata": {},
   "outputs": [
    {
     "data": {
      "text/plain": [
       "GradientBoostingClassifier()"
      ]
     },
     "execution_count": 69,
     "metadata": {},
     "output_type": "execute_result"
    }
   ],
   "source": [
    "from sklearn.metrics import roc_curve\n",
    "from sklearn.metrics import plot_roc_curve\n",
    "import matplotlib.pyplot as plt\n",
    "\n",
    "from sklearn.metrics import roc_auc_score\n",
    "\n",
    "GBc.fit(X_train,y_train)"
   ]
  },
  {
   "cell_type": "code",
   "execution_count": 71,
   "id": "acaf84dc",
   "metadata": {},
   "outputs": [
    {
     "data": {
      "text/plain": [
       "array([0.04397829, 0.11816461, 0.11521662, 0.04773421, 0.0111756 ,\n",
       "       0.03066782, 0.04806465, 0.10880412, 0.01655044, 0.04041219,\n",
       "       0.24003692, 0.02525401, 0.2911901 , 0.2340264 , 0.83017214,\n",
       "       0.02791697, 0.02065522, 0.04321242, 0.96963532, 0.03237374,\n",
       "       0.86892735, 0.70426   , 0.02006733, 0.24208957, 0.92281916,\n",
       "       0.14074327, 0.22177014, 0.0206751 , 0.73137862, 0.03364266,\n",
       "       0.29027131, 0.50009885, 0.93575898, 0.35809221, 0.14346092,\n",
       "       0.0452286 , 0.97371033, 0.21510247, 0.03718747, 0.02799253,\n",
       "       0.03196808, 0.01043359, 0.01359368, 0.10364029, 0.02570016,\n",
       "       0.31449513, 0.89990557, 0.02716178, 0.03182575, 0.26475754,\n",
       "       0.87558197, 0.0221076 , 0.67436086, 0.04103655, 0.52693757,\n",
       "       0.78958893, 0.12888225, 0.0563939 , 0.03779412, 0.41589083,\n",
       "       0.03015666, 0.03010768, 0.01164091, 0.0201052 , 0.12621529,\n",
       "       0.61942363, 0.02153031, 0.0266728 , 0.23066208, 0.97575468,\n",
       "       0.25547174, 0.05452533, 0.09123655, 0.11463915, 0.02601259,\n",
       "       0.0367803 , 0.76730444, 0.61333335, 0.97266584, 0.05753614,\n",
       "       0.66858448, 0.01702659, 0.24790517, 0.02428141, 0.12430254,\n",
       "       0.06321363, 0.19093731, 0.05496763, 0.97179732, 0.05690501,\n",
       "       0.03495369, 0.87994681, 0.23065345, 0.56159413, 0.09780001,\n",
       "       0.20152838, 0.52216776, 0.12896237, 0.01681456, 0.17926365,\n",
       "       0.01893695, 0.08801185, 0.83636469, 0.30531076, 0.49702896,\n",
       "       0.04959929, 0.01585824, 0.05131671, 0.97735814, 0.04246418,\n",
       "       0.0121415 , 0.04014927, 0.05909839, 0.02689972, 0.05742068,\n",
       "       0.01606519, 0.16313465, 0.26475754, 0.78990468, 0.03036403,\n",
       "       0.12667105, 0.32007066, 0.09392418, 0.0164164 , 0.90162574,\n",
       "       0.84253966, 0.76730444, 0.7557929 , 0.46941532, 0.03366771,\n",
       "       0.13087223, 0.02639095, 0.91479805, 0.03007741, 0.02060048,\n",
       "       0.0237754 , 0.27776509, 0.15705557, 0.33639776, 0.96051065,\n",
       "       0.41584819, 0.01271251, 0.11822856, 0.04993829, 0.10040201,\n",
       "       0.09574708, 0.64431239, 0.54624467, 0.02012085, 0.39120415,\n",
       "       0.30601162, 0.0246426 , 0.03850644, 0.03391653, 0.04785239,\n",
       "       0.01820514, 0.92340774, 0.8341172 , 0.02892168, 0.09077325,\n",
       "       0.03511421, 0.02088127, 0.20053017, 0.73853935, 0.7638094 ,\n",
       "       0.09592038, 0.59688623, 0.35523871, 0.03473252, 0.055304  ,\n",
       "       0.48187291, 0.118859  , 0.11767491, 0.88606194, 0.05268307,\n",
       "       0.0475405 , 0.02375061, 0.92710016, 0.03088966, 0.01816436,\n",
       "       0.97364304, 0.04218812, 0.13550145, 0.07846835, 0.28760823,\n",
       "       0.0196772 , 0.95542439, 0.03879996, 0.42856472, 0.10390414,\n",
       "       0.91336576, 0.0141213 , 0.0754343 , 0.32296715, 0.02340668,\n",
       "       0.85210524, 0.02581626, 0.02115021, 0.05046129, 0.1306208 ,\n",
       "       0.06803858, 0.42120714, 0.03455619, 0.01754146, 0.03474996,\n",
       "       0.04870766, 0.08796768, 0.08429622, 0.01104905, 0.02326204,\n",
       "       0.16290284, 0.03809799, 0.03736617, 0.06399267, 0.04470036,\n",
       "       0.17847731, 0.09184535, 0.02532651, 0.01122684, 0.02880736,\n",
       "       0.1022236 , 0.0656772 , 0.01292005, 0.61392165, 0.09225372,\n",
       "       0.34596964, 0.28202167, 0.02629906, 0.03520978, 0.02450243,\n",
       "       0.02272677, 0.19293969, 0.963936  , 0.06672606, 0.92763419,\n",
       "       0.12888225, 0.08890576, 0.02724114, 0.93321273, 0.061865  ,\n",
       "       0.19725352, 0.04992459, 0.19979606, 0.32791473, 0.88095612,\n",
       "       0.07443793, 0.12772755, 0.14617642, 0.02350264, 0.02808445,\n",
       "       0.02636483, 0.23716903, 0.018005  , 0.01211768, 0.8355575 ,\n",
       "       0.41370759, 0.06813844, 0.32814774, 0.11292228, 0.0183958 ,\n",
       "       0.0532018 , 0.05608017, 0.0734499 , 0.20358711, 0.06636964,\n",
       "       0.04609883, 0.06687165, 0.11039645, 0.31659422, 0.13817313,\n",
       "       0.43654166, 0.02020907, 0.0159791 , 0.02977544, 0.03842621,\n",
       "       0.01649537, 0.01539954, 0.01613007, 0.89086939, 0.02619679,\n",
       "       0.01681779, 0.19775369, 0.14495879, 0.0158197 , 0.15579281,\n",
       "       0.017431  , 0.0749194 , 0.06580482, 0.50193326, 0.04799824,\n",
       "       0.05870867, 0.01629624, 0.02179123, 0.02796272, 0.96374407,\n",
       "       0.86395963, 0.18346269, 0.02187816, 0.45195989, 0.06582814,\n",
       "       0.87971502, 0.09878881, 0.03241532, 0.05463298, 0.03991272,\n",
       "       0.35915448, 0.01515166, 0.04892478, 0.72513029, 0.40123022,\n",
       "       0.93033718, 0.76029254, 0.95035049, 0.04028388, 0.11564963,\n",
       "       0.01208488, 0.02321737, 0.80371134, 0.01082441, 0.05274834,\n",
       "       0.07812263, 0.02339174, 0.02728179, 0.10668645, 0.53251578,\n",
       "       0.23758466, 0.16842216, 0.08906288, 0.09003717, 0.01813068,\n",
       "       0.06885053, 0.52230621, 0.12631146, 0.09782584, 0.02338763,\n",
       "       0.29641474, 0.0243002 , 0.15705557, 0.0803248 , 0.32801072,\n",
       "       0.07860674, 0.01990636, 0.98208462, 0.01840491, 0.14088201,\n",
       "       0.20726724, 0.0496112 , 0.04505728, 0.04670016, 0.03326583,\n",
       "       0.98242942, 0.02458082, 0.01905657, 0.1763871 , 0.04261721,\n",
       "       0.01140156, 0.04637767, 0.08539507, 0.69506675, 0.01542151,\n",
       "       0.20490485, 0.0302573 , 0.06304529, 0.02695579, 0.01204914,\n",
       "       0.06541945, 0.01897594, 0.87566339, 0.04217937, 0.9578996 ,\n",
       "       0.01682524, 0.01672888, 0.02902268, 0.06142335, 0.14235806,\n",
       "       0.18615716, 0.60998812, 0.01164091, 0.50038663, 0.02883147,\n",
       "       0.96628905, 0.55241987, 0.01437005, 0.73797739, 0.03313707,\n",
       "       0.2344033 , 0.06503334, 0.91973066, 0.01064677, 0.01576536,\n",
       "       0.55025801, 0.03529926, 0.40104593, 0.95083625, 0.08041667,\n",
       "       0.04650237, 0.09123655, 0.01735083, 0.08024495, 0.0727323 ,\n",
       "       0.0270144 , 0.20091508, 0.01847062, 0.32791473, 0.05206556,\n",
       "       0.60814726, 0.40281345, 0.01257982, 0.12618045, 0.15032637,\n",
       "       0.33070647, 0.02694302, 0.13499789, 0.15344798, 0.4699816 ,\n",
       "       0.07329825, 0.41456252, 0.02259252, 0.13932757, 0.05984992,\n",
       "       0.35813459, 0.34274429, 0.87994681, 0.1369176 , 0.05191906,\n",
       "       0.02852145, 0.11209753, 0.03992882, 0.05866618, 0.04065165,\n",
       "       0.03131418, 0.04529515, 0.98081291, 0.05982947, 0.03888029,\n",
       "       0.15687106, 0.05513823, 0.03626035, 0.16940225, 0.02785218,\n",
       "       0.04021494, 0.35320031, 0.0240795 , 0.24605229, 0.09357449,\n",
       "       0.11771008, 0.10013203, 0.97000213, 0.0478975 , 0.01471592,\n",
       "       0.4144347 , 0.37975852, 0.03734573, 0.06519102, 0.81551192,\n",
       "       0.02204361, 0.41025299, 0.17257647, 0.01842329, 0.21636436,\n",
       "       0.01754419, 0.0240038 , 0.72652616, 0.57214372, 0.31485839,\n",
       "       0.47979383, 0.05988444, 0.46773071, 0.03211681, 0.06971116,\n",
       "       0.05651752, 0.2911901 , 0.87511418, 0.05984992, 0.08340147,\n",
       "       0.02646124, 0.58533458, 0.01950939, 0.16238405, 0.56066636,\n",
       "       0.0387924 , 0.0522649 , 0.97703706, 0.08418589, 0.05960273,\n",
       "       0.01820368, 0.01547259, 0.65485395, 0.53000018, 0.11475217,\n",
       "       0.68128571, 0.28691603, 0.05011929, 0.10819289, 0.11985388,\n",
       "       0.04055988, 0.01074051, 0.05032402, 0.05587474, 0.94573785,\n",
       "       0.0229919 , 0.58059418, 0.17176492, 0.02378323, 0.76029254,\n",
       "       0.98267825, 0.02878387, 0.20124842, 0.10084107, 0.17374454,\n",
       "       0.70426   , 0.46435655, 0.14409812, 0.02679888, 0.02321282,\n",
       "       0.25277211, 0.02878416, 0.04527946, 0.07358727, 0.01493706,\n",
       "       0.25606781, 0.00972044, 0.01024435, 0.03618042, 0.1028014 ,\n",
       "       0.10405036, 0.79936988, 0.8809721 , 0.97364304, 0.41225148,\n",
       "       0.01612734, 0.07095661, 0.03583439, 0.11279929, 0.11990919,\n",
       "       0.20744729, 0.01862818, 0.0335204 , 0.71783682, 0.98249202,\n",
       "       0.16985833, 0.18810205, 0.07092816, 0.0256864 , 0.03938052,\n",
       "       0.96241978, 0.90341679, 0.0229919 , 0.05379254, 0.03010478,\n",
       "       0.08832869, 0.28176979, 0.03114068, 0.44905569, 0.07268978,\n",
       "       0.02025597, 0.11114791, 0.01260982, 0.89917933, 0.02231804,\n",
       "       0.2030222 , 0.17882865, 0.79587069, 0.02686464, 0.2595824 ,\n",
       "       0.02222253, 0.33422618, 0.21686638, 0.06216988, 0.9182347 ,\n",
       "       0.06735335, 0.82995376, 0.13432684, 0.89039924, 0.04028388,\n",
       "       0.04041219, 0.07962673, 0.04798015, 0.09868147, 0.02519031,\n",
       "       0.15126474, 0.04458754, 0.02933611, 0.19293969, 0.0925146 ,\n",
       "       0.75253061, 0.33828323, 0.19016037, 0.57577859, 0.24684257,\n",
       "       0.05453874, 0.20102871, 0.9231792 , 0.70441215, 0.97566425,\n",
       "       0.04120946, 0.13994026, 0.95411572, 0.09956747, 0.05501142,\n",
       "       0.02763159, 0.02602632, 0.0372721 , 0.01318947, 0.32583414,\n",
       "       0.02416774, 0.10810321, 0.01471886, 0.14874214, 0.98504748,\n",
       "       0.02823416, 0.52729003, 0.2823513 , 0.03889759, 0.27748265,\n",
       "       0.17664927, 0.04708361, 0.2024815 , 0.05836139, 0.02815523,\n",
       "       0.74255359, 0.77504882, 0.20182122, 0.95098413, 0.0647539 ,\n",
       "       0.71501847, 0.09953955, 0.02148025, 0.76531841, 0.01363063,\n",
       "       0.09339317, 0.17502875, 0.09168199, 0.82706411, 0.36139196,\n",
       "       0.05913378, 0.05590043, 0.10764863, 0.18047489, 0.39875984,\n",
       "       0.01796289, 0.10085705, 0.01404945, 0.02318827, 0.09168199,\n",
       "       0.10646007, 0.2536021 , 0.13435764, 0.02363595, 0.17955527,\n",
       "       0.04055988, 0.69705401, 0.02484038, 0.73873975, 0.91973066,\n",
       "       0.55862873, 0.04788518, 0.28970468, 0.01260794, 0.01943052,\n",
       "       0.04713958, 0.16271544, 0.91014628, 0.05558217, 0.36945838,\n",
       "       0.05151601, 0.05386174, 0.80051483, 0.10782341, 0.01334303,\n",
       "       0.04476279, 0.22071778, 0.05995699, 0.02300122, 0.03256341,\n",
       "       0.41025299, 0.54763221, 0.04470036, 0.74796187, 0.02926185,\n",
       "       0.2595824 , 0.03430461, 0.6596273 , 0.28970468, 0.41440195,\n",
       "       0.04462925, 0.1157418 , 0.39296618, 0.92140927, 0.96051065,\n",
       "       0.23218089, 0.07171125, 0.01599841, 0.0450063 , 0.95082477,\n",
       "       0.08784461, 0.03511421, 0.57204005, 0.16290284, 0.97703706,\n",
       "       0.16780559, 0.12523118, 0.08287961, 0.14054109, 0.08719199,\n",
       "       0.46827882, 0.03990715, 0.33418987, 0.01513934, 0.16062107,\n",
       "       0.1521199 , 0.97161112, 0.02109836, 0.04320662, 0.58282245,\n",
       "       0.61968388, 0.14349605, 0.96401669, 0.69132011, 0.07635037,\n",
       "       0.14517634, 0.05435419, 0.07249489, 0.02422815, 0.02290692,\n",
       "       0.94007002, 0.4027175 , 0.05351476, 0.07948004, 0.05782907,\n",
       "       0.05137236, 0.18884227, 0.03540535, 0.21289404, 0.02041021,\n",
       "       0.64629871, 0.34424637, 0.03580445, 0.30799534, 0.69601689,\n",
       "       0.02042372, 0.05960273, 0.07268978, 0.83216541, 0.92101909,\n",
       "       0.06531747, 0.03677756, 0.19796698, 0.04804887, 0.37736355,\n",
       "       0.31697784, 0.05017379, 0.69367595, 0.13432684, 0.06304529,\n",
       "       0.43654166, 0.17362755, 0.49152796])"
      ]
     },
     "execution_count": 71,
     "metadata": {},
     "output_type": "execute_result"
    }
   ],
   "source": [
    "y_pred_prob=GBc.predict_proba(X_test)[:,1]\n",
    "y_pred_prob"
   ]
  },
  {
   "cell_type": "code",
   "execution_count": 72,
   "id": "382131b5",
   "metadata": {},
   "outputs": [],
   "source": [
    "fpr,tpr,thresholds=roc_curve(y_test,y_pred_prob)"
   ]
  },
  {
   "cell_type": "code",
   "execution_count": 73,
   "id": "967e2c7c",
   "metadata": {},
   "outputs": [
    {
     "data": {
      "text/plain": [
       "(array([0.        , 0.        , 0.        , 0.        , 0.        ,\n",
       "        0.        , 0.        , 0.        , 0.        , 0.0017452 ,\n",
       "        0.0017452 , 0.0052356 , 0.0052356 , 0.0069808 , 0.0069808 ,\n",
       "        0.0069808 , 0.0069808 , 0.008726  , 0.008726  , 0.0122164 ,\n",
       "        0.0122164 , 0.0122164 , 0.0122164 , 0.0122164 , 0.0122164 ,\n",
       "        0.01396161, 0.01396161, 0.01570681, 0.01570681, 0.01745201,\n",
       "        0.01745201, 0.02094241, 0.02443281, 0.02443281, 0.02617801,\n",
       "        0.02617801, 0.02792321, 0.02792321, 0.02966841, 0.02966841,\n",
       "        0.03141361, 0.03141361, 0.03315881, 0.03315881, 0.04013962,\n",
       "        0.04013962, 0.04363002, 0.04363002, 0.05235602, 0.05235602,\n",
       "        0.05933682, 0.05933682, 0.06282723, 0.06282723, 0.06980803,\n",
       "        0.06980803, 0.07155323, 0.07155323, 0.07504363, 0.07504363,\n",
       "        0.07678883, 0.07678883, 0.07853403, 0.07853403, 0.08202443,\n",
       "        0.08202443, 0.08551483, 0.08551483, 0.09424084, 0.09424084,\n",
       "        0.09424084, 0.09598604, 0.09598604, 0.10122164, 0.10122164,\n",
       "        0.10645724, 0.10645724, 0.10994764, 0.11169284, 0.11518325,\n",
       "        0.12565445, 0.12565445, 0.12565445, 0.12914485, 0.12914485,\n",
       "        0.14310646, 0.14310646, 0.15357766, 0.15357766, 0.15532286,\n",
       "        0.15532286, 0.16230366, 0.16230366, 0.16404887, 0.16404887,\n",
       "        0.16579407, 0.16579407, 0.16753927, 0.16753927, 0.16928447,\n",
       "        0.16928447, 0.17626527, 0.17975567, 0.19720768, 0.19720768,\n",
       "        0.21640489, 0.21640489, 0.21989529, 0.22513089, 0.22862129,\n",
       "        0.2547993 , 0.2547993 , 0.26876091, 0.27225131, 0.27574171,\n",
       "        0.27574171, 0.27574171, 0.28097731, 0.28097731, 0.30541012,\n",
       "        0.30541012, 0.32460733, 0.32460733, 0.32809773, 0.32809773,\n",
       "        0.34031414, 0.34031414, 0.36125654, 0.36125654, 0.38743455,\n",
       "        0.38743455, 0.41186736, 0.41535777, 0.45375218, 0.45724258,\n",
       "        0.46596859, 0.46945899, 0.47120419, 0.47120419, 0.47993019,\n",
       "        0.47993019, 0.4991274 , 0.4991274 , 0.57940663, 0.57940663,\n",
       "        0.58115183, 0.58464223, 0.58813264, 0.58813264, 0.60383944,\n",
       "        0.61431065, 0.66143106, 0.66492147, 0.82373473, 0.82722513,\n",
       "        0.97905759, 0.98254799, 1.        ]),\n",
       " array([0.        , 0.00540541, 0.03783784, 0.04864865, 0.06486486,\n",
       "        0.07567568, 0.12972973, 0.14054054, 0.16756757, 0.16756757,\n",
       "        0.23783784, 0.23783784, 0.27567568, 0.27567568, 0.3027027 ,\n",
       "        0.31351351, 0.36756757, 0.36756757, 0.37837838, 0.37837838,\n",
       "        0.42162162, 0.43243243, 0.44324324, 0.45405405, 0.46486486,\n",
       "        0.46486486, 0.47027027, 0.47027027, 0.47567568, 0.47567568,\n",
       "        0.4972973 , 0.4972973 , 0.4972973 , 0.51891892, 0.51891892,\n",
       "        0.52972973, 0.52972973, 0.54594595, 0.54594595, 0.61081081,\n",
       "        0.61081081, 0.62162162, 0.62162162, 0.64324324, 0.64324324,\n",
       "        0.64864865, 0.64864865, 0.65945946, 0.65945946, 0.66486486,\n",
       "        0.66486486, 0.67027027, 0.67027027, 0.67567568, 0.67567568,\n",
       "        0.68108108, 0.68108108, 0.69189189, 0.69189189, 0.6972973 ,\n",
       "        0.6972973 , 0.7027027 , 0.7027027 , 0.73513514, 0.73513514,\n",
       "        0.75135135, 0.75135135, 0.76756757, 0.76756757, 0.77297297,\n",
       "        0.78378378, 0.78378378, 0.78918919, 0.78918919, 0.79459459,\n",
       "        0.79459459, 0.80540541, 0.80540541, 0.80540541, 0.80540541,\n",
       "        0.80540541, 0.81081081, 0.82162162, 0.82162162, 0.82702703,\n",
       "        0.82702703, 0.83243243, 0.83243243, 0.83783784, 0.83783784,\n",
       "        0.84324324, 0.84324324, 0.85405405, 0.85405405, 0.85945946,\n",
       "        0.85945946, 0.86486486, 0.86486486, 0.87027027, 0.87027027,\n",
       "        0.88108108, 0.88108108, 0.88108108, 0.88108108, 0.88648649,\n",
       "        0.88648649, 0.89189189, 0.89189189, 0.89189189, 0.89189189,\n",
       "        0.89189189, 0.8972973 , 0.8972973 , 0.8972973 , 0.8972973 ,\n",
       "        0.9027027 , 0.91351351, 0.91351351, 0.91891892, 0.91891892,\n",
       "        0.92432432, 0.92432432, 0.92972973, 0.92972973, 0.93513514,\n",
       "        0.93513514, 0.94054054, 0.94054054, 0.96216216, 0.96216216,\n",
       "        0.96756757, 0.96756757, 0.96756757, 0.96756757, 0.96756757,\n",
       "        0.96756757, 0.96756757, 0.96756757, 0.97837838, 0.97837838,\n",
       "        0.98378378, 0.98378378, 0.98918919, 0.98918919, 0.99459459,\n",
       "        0.99459459, 0.99459459, 0.99459459, 1.        , 1.        ,\n",
       "        1.        , 1.        , 1.        , 1.        , 1.        ,\n",
       "        1.        , 1.        , 1.        ]),\n",
       " array([1.98504748, 0.98504748, 0.97735814, 0.97703706, 0.97371033,\n",
       "        0.97364304, 0.96241978, 0.96051065, 0.95083625, 0.95082477,\n",
       "        0.92101909, 0.91973066, 0.89990557, 0.89917933, 0.88095612,\n",
       "        0.87994681, 0.8355575 , 0.8341172 , 0.83017214, 0.82706411,\n",
       "        0.77504882, 0.76730444, 0.7638094 , 0.76029254, 0.75253061,\n",
       "        0.74796187, 0.74255359, 0.73873975, 0.73853935, 0.73797739,\n",
       "        0.71783682, 0.70441215, 0.70426   , 0.69367595, 0.69132011,\n",
       "        0.67436086, 0.66858448, 0.64629871, 0.64431239, 0.57214372,\n",
       "        0.57204005, 0.56066636, 0.55862873, 0.54624467, 0.52693757,\n",
       "        0.52230621, 0.50193326, 0.50009885, 0.4699816 , 0.46941532,\n",
       "        0.45195989, 0.44905569, 0.43654166, 0.42856472, 0.41456252,\n",
       "        0.4144347 , 0.41440195, 0.41225148, 0.41025299, 0.40281345,\n",
       "        0.4027175 , 0.40123022, 0.40104593, 0.36945838, 0.35915448,\n",
       "        0.35523871, 0.34596964, 0.33828323, 0.32814774, 0.32801072,\n",
       "        0.32791473, 0.32583414, 0.32296715, 0.31659422, 0.31485839,\n",
       "        0.30601162, 0.29641474, 0.2911901 , 0.29027131, 0.28970468,\n",
       "        0.27776509, 0.27748265, 0.26475754, 0.2595824 , 0.25606781,\n",
       "        0.24003692, 0.23758466, 0.23065345, 0.22177014, 0.22071778,\n",
       "        0.21686638, 0.20744729, 0.20490485, 0.20358711, 0.2030222 ,\n",
       "        0.2024815 , 0.20182122, 0.20152838, 0.20124842, 0.20102871,\n",
       "        0.20053017, 0.19725352, 0.19293969, 0.17882865, 0.17847731,\n",
       "        0.16780559, 0.16313465, 0.16290284, 0.16062107, 0.15705557,\n",
       "        0.14088201, 0.14074327, 0.13435764, 0.13432684, 0.1306208 ,\n",
       "        0.12896237, 0.12888225, 0.12631146, 0.12621529, 0.11475217,\n",
       "        0.11463915, 0.10668645, 0.10646007, 0.10390414, 0.10364029,\n",
       "        0.09956747, 0.09953955, 0.09184535, 0.09123655, 0.08041667,\n",
       "        0.0803248 , 0.0727323 , 0.07268978, 0.06321363, 0.06304529,\n",
       "        0.05988444, 0.05984992, 0.05982947, 0.05960273, 0.05836139,\n",
       "        0.05782907, 0.05513823, 0.05501142, 0.04505728, 0.0450063 ,\n",
       "        0.04476279, 0.04470036, 0.04458754, 0.04397829, 0.04065165,\n",
       "        0.04028388, 0.03520978, 0.03511421, 0.02300122, 0.0229919 ,\n",
       "        0.01204914, 0.01164091, 0.00972044]))"
      ]
     },
     "execution_count": 73,
     "metadata": {},
     "output_type": "execute_result"
    }
   ],
   "source": [
    "fpr,tpr,thresholds"
   ]
  },
  {
   "cell_type": "code",
   "execution_count": 75,
   "id": "507835b7",
   "metadata": {},
   "outputs": [
    {
     "data": {
      "text/plain": [
       "0.8079147210037262"
      ]
     },
     "execution_count": 75,
     "metadata": {},
     "output_type": "execute_result"
    }
   ],
   "source": [
    "auc_score=roc_auc_score(y_test,GBc.predict(X_test))\n",
    "auc_score"
   ]
  },
  {
   "cell_type": "markdown",
   "id": "cad4c99b",
   "metadata": {},
   "source": [
    "# Conclusion"
   ]
  },
  {
   "cell_type": "code",
   "execution_count": 77,
   "id": "1fdb6f6b",
   "metadata": {},
   "outputs": [
    {
     "data": {
      "text/html": [
       "<div>\n",
       "<style scoped>\n",
       "    .dataframe tbody tr th:only-of-type {\n",
       "        vertical-align: middle;\n",
       "    }\n",
       "\n",
       "    .dataframe tbody tr th {\n",
       "        vertical-align: top;\n",
       "    }\n",
       "\n",
       "    .dataframe thead th {\n",
       "        text-align: right;\n",
       "    }\n",
       "</style>\n",
       "<table border=\"1\" class=\"dataframe\">\n",
       "  <thead>\n",
       "    <tr style=\"text-align: right;\">\n",
       "      <th></th>\n",
       "      <th>Original</th>\n",
       "      <th>Predicted</th>\n",
       "    </tr>\n",
       "  </thead>\n",
       "  <tbody>\n",
       "    <tr>\n",
       "      <th>0</th>\n",
       "      <td>1</td>\n",
       "      <td>0</td>\n",
       "    </tr>\n",
       "    <tr>\n",
       "      <th>1</th>\n",
       "      <td>0</td>\n",
       "      <td>0</td>\n",
       "    </tr>\n",
       "    <tr>\n",
       "      <th>2</th>\n",
       "      <td>0</td>\n",
       "      <td>0</td>\n",
       "    </tr>\n",
       "    <tr>\n",
       "      <th>3</th>\n",
       "      <td>0</td>\n",
       "      <td>0</td>\n",
       "    </tr>\n",
       "    <tr>\n",
       "      <th>4</th>\n",
       "      <td>0</td>\n",
       "      <td>0</td>\n",
       "    </tr>\n",
       "    <tr>\n",
       "      <th>...</th>\n",
       "      <td>...</td>\n",
       "      <td>...</td>\n",
       "    </tr>\n",
       "    <tr>\n",
       "      <th>753</th>\n",
       "      <td>0</td>\n",
       "      <td>0</td>\n",
       "    </tr>\n",
       "    <tr>\n",
       "      <th>754</th>\n",
       "      <td>0</td>\n",
       "      <td>0</td>\n",
       "    </tr>\n",
       "    <tr>\n",
       "      <th>755</th>\n",
       "      <td>0</td>\n",
       "      <td>0</td>\n",
       "    </tr>\n",
       "    <tr>\n",
       "      <th>756</th>\n",
       "      <td>0</td>\n",
       "      <td>0</td>\n",
       "    </tr>\n",
       "    <tr>\n",
       "      <th>757</th>\n",
       "      <td>0</td>\n",
       "      <td>0</td>\n",
       "    </tr>\n",
       "  </tbody>\n",
       "</table>\n",
       "<p>758 rows × 2 columns</p>\n",
       "</div>"
      ],
      "text/plain": [
       "     Original  Predicted\n",
       "0           1          0\n",
       "1           0          0\n",
       "2           0          0\n",
       "3           0          0\n",
       "4           0          0\n",
       "..        ...        ...\n",
       "753         0          0\n",
       "754         0          0\n",
       "755         0          0\n",
       "756         0          0\n",
       "757         0          0\n",
       "\n",
       "[758 rows x 2 columns]"
      ]
     },
     "execution_count": 77,
     "metadata": {},
     "output_type": "execute_result"
    }
   ],
   "source": [
    "a=np.array(y_test)\n",
    "Predicted=np.array(predGBc)\n",
    "df_com=pd.DataFrame({'Original':a,'Predicted':Predicted},index=range(len(a)))\n",
    "df_com"
   ]
  },
  {
   "cell_type": "code",
   "execution_count": null,
   "id": "05e17a0f",
   "metadata": {},
   "outputs": [],
   "source": []
  }
 ],
 "metadata": {
  "kernelspec": {
   "display_name": "Python 3 (ipykernel)",
   "language": "python",
   "name": "python3"
  },
  "language_info": {
   "codemirror_mode": {
    "name": "ipython",
    "version": 3
   },
   "file_extension": ".py",
   "mimetype": "text/x-python",
   "name": "python",
   "nbconvert_exporter": "python",
   "pygments_lexer": "ipython3",
   "version": "3.9.12"
  }
 },
 "nbformat": 4,
 "nbformat_minor": 5
}
